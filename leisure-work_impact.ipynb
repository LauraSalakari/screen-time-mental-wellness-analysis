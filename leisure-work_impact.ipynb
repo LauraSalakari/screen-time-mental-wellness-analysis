{
 "cells": [
  {
   "cell_type": "code",
   "execution_count": 2,
   "id": "c925416f-377d-4ba0-981f-1c9b1d98d435",
   "metadata": {},
   "outputs": [],
   "source": [
    "import pandas as pd\n",
    "import matplotlib.pyplot as plt # viz\n",
    "import seaborn as sns # better viz\n",
    "import numpy as np # numerical python\n",
    "%matplotlib inline\n",
    "pd.set_option('display.max_columns', None)"
   ]
  },
  {
   "cell_type": "code",
   "execution_count": 3,
   "id": "d67b26dc-35ae-4fa4-973d-4478f1b1078c",
   "metadata": {},
   "outputs": [
    {
     "data": {
      "application/vnd.microsoft.datawrangler.viewer.v0+json": {
       "columns": [
        {
         "name": "index",
         "rawType": "int64",
         "type": "integer"
        },
        {
         "name": "user_id",
         "rawType": "object",
         "type": "string"
        },
        {
         "name": "age",
         "rawType": "int64",
         "type": "integer"
        },
        {
         "name": "gender",
         "rawType": "object",
         "type": "string"
        },
        {
         "name": "occupation",
         "rawType": "object",
         "type": "string"
        },
        {
         "name": "work_mode",
         "rawType": "object",
         "type": "string"
        },
        {
         "name": "screen_time_hours",
         "rawType": "float64",
         "type": "float"
        },
        {
         "name": "work_screen_hours",
         "rawType": "float64",
         "type": "float"
        },
        {
         "name": "leisure_screen_hours",
         "rawType": "float64",
         "type": "float"
        },
        {
         "name": "sleep_hours",
         "rawType": "float64",
         "type": "float"
        },
        {
         "name": "sleep_quality_1_5",
         "rawType": "int64",
         "type": "integer"
        },
        {
         "name": "stress_level_0_10",
         "rawType": "float64",
         "type": "float"
        },
        {
         "name": "productivity_0_100",
         "rawType": "float64",
         "type": "float"
        },
        {
         "name": "exercise_minutes_per_week",
         "rawType": "int64",
         "type": "integer"
        },
        {
         "name": "social_hours_per_week",
         "rawType": "float64",
         "type": "float"
        },
        {
         "name": "mental_wellness_index_0_100",
         "rawType": "float64",
         "type": "float"
        },
        {
         "name": "Unnamed: 15",
         "rawType": "float64",
         "type": "float"
        }
       ],
       "ref": "354c9373-5595-42c9-89b8-d80bad49807e",
       "rows": [
        [
         "0",
         "U0001",
         "33",
         "Female",
         "Employed",
         "Remote",
         "10.79",
         "5.44",
         "5.35",
         "6.63",
         "1",
         "9.3",
         "44.7",
         "127",
         "0.7",
         "9.3",
         null
        ],
        [
         "1",
         "U0002",
         "28",
         "Female",
         "Employed",
         "In-person",
         "7.4",
         "0.37",
         "7.03",
         "8.05",
         "3",
         "5.7",
         "78.0",
         "74",
         "2.1",
         "56.2",
         null
        ],
        [
         "2",
         "U0003",
         "35",
         "Female",
         "Employed",
         "Hybrid",
         "9.78",
         "1.09",
         "8.69",
         "6.48",
         "1",
         "9.1",
         "51.8",
         "67",
         "8.0",
         "3.6",
         null
        ],
        [
         "3",
         "U0004",
         "42",
         "Male",
         "Employed",
         "Hybrid",
         "11.13",
         "0.56",
         "10.57",
         "6.89",
         "1",
         "10.0",
         "37.0",
         "0",
         "5.7",
         "0.0",
         null
        ],
        [
         "4",
         "U0005",
         "28",
         "Male",
         "Student",
         "Remote",
         "13.22",
         "4.09",
         "9.13",
         "5.79",
         "1",
         "10.0",
         "38.5",
         "143",
         "10.1",
         "0.0",
         null
        ]
       ],
       "shape": {
        "columns": 16,
        "rows": 5
       }
      },
      "text/html": [
       "<div>\n",
       "<style scoped>\n",
       "    .dataframe tbody tr th:only-of-type {\n",
       "        vertical-align: middle;\n",
       "    }\n",
       "\n",
       "    .dataframe tbody tr th {\n",
       "        vertical-align: top;\n",
       "    }\n",
       "\n",
       "    .dataframe thead th {\n",
       "        text-align: right;\n",
       "    }\n",
       "</style>\n",
       "<table border=\"1\" class=\"dataframe\">\n",
       "  <thead>\n",
       "    <tr style=\"text-align: right;\">\n",
       "      <th></th>\n",
       "      <th>user_id</th>\n",
       "      <th>age</th>\n",
       "      <th>gender</th>\n",
       "      <th>occupation</th>\n",
       "      <th>work_mode</th>\n",
       "      <th>screen_time_hours</th>\n",
       "      <th>work_screen_hours</th>\n",
       "      <th>leisure_screen_hours</th>\n",
       "      <th>sleep_hours</th>\n",
       "      <th>sleep_quality_1_5</th>\n",
       "      <th>stress_level_0_10</th>\n",
       "      <th>productivity_0_100</th>\n",
       "      <th>exercise_minutes_per_week</th>\n",
       "      <th>social_hours_per_week</th>\n",
       "      <th>mental_wellness_index_0_100</th>\n",
       "      <th>Unnamed: 15</th>\n",
       "    </tr>\n",
       "  </thead>\n",
       "  <tbody>\n",
       "    <tr>\n",
       "      <th>0</th>\n",
       "      <td>U0001</td>\n",
       "      <td>33</td>\n",
       "      <td>Female</td>\n",
       "      <td>Employed</td>\n",
       "      <td>Remote</td>\n",
       "      <td>10.79</td>\n",
       "      <td>5.44</td>\n",
       "      <td>5.35</td>\n",
       "      <td>6.63</td>\n",
       "      <td>1</td>\n",
       "      <td>9.3</td>\n",
       "      <td>44.7</td>\n",
       "      <td>127</td>\n",
       "      <td>0.7</td>\n",
       "      <td>9.3</td>\n",
       "      <td>NaN</td>\n",
       "    </tr>\n",
       "    <tr>\n",
       "      <th>1</th>\n",
       "      <td>U0002</td>\n",
       "      <td>28</td>\n",
       "      <td>Female</td>\n",
       "      <td>Employed</td>\n",
       "      <td>In-person</td>\n",
       "      <td>7.40</td>\n",
       "      <td>0.37</td>\n",
       "      <td>7.03</td>\n",
       "      <td>8.05</td>\n",
       "      <td>3</td>\n",
       "      <td>5.7</td>\n",
       "      <td>78.0</td>\n",
       "      <td>74</td>\n",
       "      <td>2.1</td>\n",
       "      <td>56.2</td>\n",
       "      <td>NaN</td>\n",
       "    </tr>\n",
       "    <tr>\n",
       "      <th>2</th>\n",
       "      <td>U0003</td>\n",
       "      <td>35</td>\n",
       "      <td>Female</td>\n",
       "      <td>Employed</td>\n",
       "      <td>Hybrid</td>\n",
       "      <td>9.78</td>\n",
       "      <td>1.09</td>\n",
       "      <td>8.69</td>\n",
       "      <td>6.48</td>\n",
       "      <td>1</td>\n",
       "      <td>9.1</td>\n",
       "      <td>51.8</td>\n",
       "      <td>67</td>\n",
       "      <td>8.0</td>\n",
       "      <td>3.6</td>\n",
       "      <td>NaN</td>\n",
       "    </tr>\n",
       "    <tr>\n",
       "      <th>3</th>\n",
       "      <td>U0004</td>\n",
       "      <td>42</td>\n",
       "      <td>Male</td>\n",
       "      <td>Employed</td>\n",
       "      <td>Hybrid</td>\n",
       "      <td>11.13</td>\n",
       "      <td>0.56</td>\n",
       "      <td>10.57</td>\n",
       "      <td>6.89</td>\n",
       "      <td>1</td>\n",
       "      <td>10.0</td>\n",
       "      <td>37.0</td>\n",
       "      <td>0</td>\n",
       "      <td>5.7</td>\n",
       "      <td>0.0</td>\n",
       "      <td>NaN</td>\n",
       "    </tr>\n",
       "    <tr>\n",
       "      <th>4</th>\n",
       "      <td>U0005</td>\n",
       "      <td>28</td>\n",
       "      <td>Male</td>\n",
       "      <td>Student</td>\n",
       "      <td>Remote</td>\n",
       "      <td>13.22</td>\n",
       "      <td>4.09</td>\n",
       "      <td>9.13</td>\n",
       "      <td>5.79</td>\n",
       "      <td>1</td>\n",
       "      <td>10.0</td>\n",
       "      <td>38.5</td>\n",
       "      <td>143</td>\n",
       "      <td>10.1</td>\n",
       "      <td>0.0</td>\n",
       "      <td>NaN</td>\n",
       "    </tr>\n",
       "  </tbody>\n",
       "</table>\n",
       "</div>"
      ],
      "text/plain": [
       "  user_id  age  gender occupation  work_mode  screen_time_hours  \\\n",
       "0   U0001   33  Female   Employed     Remote              10.79   \n",
       "1   U0002   28  Female   Employed  In-person               7.40   \n",
       "2   U0003   35  Female   Employed     Hybrid               9.78   \n",
       "3   U0004   42    Male   Employed     Hybrid              11.13   \n",
       "4   U0005   28    Male    Student     Remote              13.22   \n",
       "\n",
       "   work_screen_hours  leisure_screen_hours  sleep_hours  sleep_quality_1_5  \\\n",
       "0               5.44                  5.35         6.63                  1   \n",
       "1               0.37                  7.03         8.05                  3   \n",
       "2               1.09                  8.69         6.48                  1   \n",
       "3               0.56                 10.57         6.89                  1   \n",
       "4               4.09                  9.13         5.79                  1   \n",
       "\n",
       "   stress_level_0_10  productivity_0_100  exercise_minutes_per_week  \\\n",
       "0                9.3                44.7                        127   \n",
       "1                5.7                78.0                         74   \n",
       "2                9.1                51.8                         67   \n",
       "3               10.0                37.0                          0   \n",
       "4               10.0                38.5                        143   \n",
       "\n",
       "   social_hours_per_week  mental_wellness_index_0_100  Unnamed: 15  \n",
       "0                    0.7                          9.3          NaN  \n",
       "1                    2.1                         56.2          NaN  \n",
       "2                    8.0                          3.6          NaN  \n",
       "3                    5.7                          0.0          NaN  \n",
       "4                   10.1                          0.0          NaN  "
      ]
     },
     "execution_count": 3,
     "metadata": {},
     "output_type": "execute_result"
    }
   ],
   "source": [
    "df = pd.read_csv(f\"ScreenTime-vs-MentalWellness.csv\")\n",
    "\n",
    "df.head()"
   ]
  },
  {
   "cell_type": "code",
   "execution_count": 4,
   "id": "4d4d4e21-7baf-4437-a46d-a6fd56a92417",
   "metadata": {},
   "outputs": [
    {
     "data": {
      "text/plain": [
       "(400, 16)"
      ]
     },
     "execution_count": 4,
     "metadata": {},
     "output_type": "execute_result"
    }
   ],
   "source": [
    "df.shape"
   ]
  },
  {
   "cell_type": "markdown",
   "id": "4b334b3b-59e9-4e8e-8d43-9aa405ca8406",
   "metadata": {},
   "source": [
    " There's an empty extra column, we will remove"
   ]
  },
  {
   "cell_type": "code",
   "execution_count": 5,
   "id": "f4a5d169-223a-43be-a4c5-4108de5107cc",
   "metadata": {},
   "outputs": [
    {
     "data": {
      "application/vnd.microsoft.datawrangler.viewer.v0+json": {
       "columns": [
        {
         "name": "index",
         "rawType": "int64",
         "type": "integer"
        },
        {
         "name": "user_id",
         "rawType": "object",
         "type": "string"
        },
        {
         "name": "age",
         "rawType": "int64",
         "type": "integer"
        },
        {
         "name": "gender",
         "rawType": "object",
         "type": "string"
        },
        {
         "name": "occupation",
         "rawType": "object",
         "type": "string"
        },
        {
         "name": "work_mode",
         "rawType": "object",
         "type": "string"
        },
        {
         "name": "screen_time_hours",
         "rawType": "float64",
         "type": "float"
        },
        {
         "name": "work_screen_hours",
         "rawType": "float64",
         "type": "float"
        },
        {
         "name": "leisure_screen_hours",
         "rawType": "float64",
         "type": "float"
        },
        {
         "name": "sleep_hours",
         "rawType": "float64",
         "type": "float"
        },
        {
         "name": "sleep_quality_1_5",
         "rawType": "int64",
         "type": "integer"
        },
        {
         "name": "stress_level_0_10",
         "rawType": "float64",
         "type": "float"
        },
        {
         "name": "productivity_0_100",
         "rawType": "float64",
         "type": "float"
        },
        {
         "name": "exercise_minutes_per_week",
         "rawType": "int64",
         "type": "integer"
        },
        {
         "name": "social_hours_per_week",
         "rawType": "float64",
         "type": "float"
        },
        {
         "name": "mental_wellness_index_0_100",
         "rawType": "float64",
         "type": "float"
        }
       ],
       "ref": "249564af-c74f-4df3-84d9-5f70d52b3cb0",
       "rows": [
        [
         "0",
         "U0001",
         "33",
         "Female",
         "Employed",
         "Remote",
         "10.79",
         "5.44",
         "5.35",
         "6.63",
         "1",
         "9.3",
         "44.7",
         "127",
         "0.7",
         "9.3"
        ],
        [
         "1",
         "U0002",
         "28",
         "Female",
         "Employed",
         "In-person",
         "7.4",
         "0.37",
         "7.03",
         "8.05",
         "3",
         "5.7",
         "78.0",
         "74",
         "2.1",
         "56.2"
        ],
        [
         "2",
         "U0003",
         "35",
         "Female",
         "Employed",
         "Hybrid",
         "9.78",
         "1.09",
         "8.69",
         "6.48",
         "1",
         "9.1",
         "51.8",
         "67",
         "8.0",
         "3.6"
        ],
        [
         "3",
         "U0004",
         "42",
         "Male",
         "Employed",
         "Hybrid",
         "11.13",
         "0.56",
         "10.57",
         "6.89",
         "1",
         "10.0",
         "37.0",
         "0",
         "5.7",
         "0.0"
        ],
        [
         "4",
         "U0005",
         "28",
         "Male",
         "Student",
         "Remote",
         "13.22",
         "4.09",
         "9.13",
         "5.79",
         "1",
         "10.0",
         "38.5",
         "143",
         "10.1",
         "0.0"
        ]
       ],
       "shape": {
        "columns": 15,
        "rows": 5
       }
      },
      "text/html": [
       "<div>\n",
       "<style scoped>\n",
       "    .dataframe tbody tr th:only-of-type {\n",
       "        vertical-align: middle;\n",
       "    }\n",
       "\n",
       "    .dataframe tbody tr th {\n",
       "        vertical-align: top;\n",
       "    }\n",
       "\n",
       "    .dataframe thead th {\n",
       "        text-align: right;\n",
       "    }\n",
       "</style>\n",
       "<table border=\"1\" class=\"dataframe\">\n",
       "  <thead>\n",
       "    <tr style=\"text-align: right;\">\n",
       "      <th></th>\n",
       "      <th>user_id</th>\n",
       "      <th>age</th>\n",
       "      <th>gender</th>\n",
       "      <th>occupation</th>\n",
       "      <th>work_mode</th>\n",
       "      <th>screen_time_hours</th>\n",
       "      <th>work_screen_hours</th>\n",
       "      <th>leisure_screen_hours</th>\n",
       "      <th>sleep_hours</th>\n",
       "      <th>sleep_quality_1_5</th>\n",
       "      <th>stress_level_0_10</th>\n",
       "      <th>productivity_0_100</th>\n",
       "      <th>exercise_minutes_per_week</th>\n",
       "      <th>social_hours_per_week</th>\n",
       "      <th>mental_wellness_index_0_100</th>\n",
       "    </tr>\n",
       "  </thead>\n",
       "  <tbody>\n",
       "    <tr>\n",
       "      <th>0</th>\n",
       "      <td>U0001</td>\n",
       "      <td>33</td>\n",
       "      <td>Female</td>\n",
       "      <td>Employed</td>\n",
       "      <td>Remote</td>\n",
       "      <td>10.79</td>\n",
       "      <td>5.44</td>\n",
       "      <td>5.35</td>\n",
       "      <td>6.63</td>\n",
       "      <td>1</td>\n",
       "      <td>9.3</td>\n",
       "      <td>44.7</td>\n",
       "      <td>127</td>\n",
       "      <td>0.7</td>\n",
       "      <td>9.3</td>\n",
       "    </tr>\n",
       "    <tr>\n",
       "      <th>1</th>\n",
       "      <td>U0002</td>\n",
       "      <td>28</td>\n",
       "      <td>Female</td>\n",
       "      <td>Employed</td>\n",
       "      <td>In-person</td>\n",
       "      <td>7.40</td>\n",
       "      <td>0.37</td>\n",
       "      <td>7.03</td>\n",
       "      <td>8.05</td>\n",
       "      <td>3</td>\n",
       "      <td>5.7</td>\n",
       "      <td>78.0</td>\n",
       "      <td>74</td>\n",
       "      <td>2.1</td>\n",
       "      <td>56.2</td>\n",
       "    </tr>\n",
       "    <tr>\n",
       "      <th>2</th>\n",
       "      <td>U0003</td>\n",
       "      <td>35</td>\n",
       "      <td>Female</td>\n",
       "      <td>Employed</td>\n",
       "      <td>Hybrid</td>\n",
       "      <td>9.78</td>\n",
       "      <td>1.09</td>\n",
       "      <td>8.69</td>\n",
       "      <td>6.48</td>\n",
       "      <td>1</td>\n",
       "      <td>9.1</td>\n",
       "      <td>51.8</td>\n",
       "      <td>67</td>\n",
       "      <td>8.0</td>\n",
       "      <td>3.6</td>\n",
       "    </tr>\n",
       "    <tr>\n",
       "      <th>3</th>\n",
       "      <td>U0004</td>\n",
       "      <td>42</td>\n",
       "      <td>Male</td>\n",
       "      <td>Employed</td>\n",
       "      <td>Hybrid</td>\n",
       "      <td>11.13</td>\n",
       "      <td>0.56</td>\n",
       "      <td>10.57</td>\n",
       "      <td>6.89</td>\n",
       "      <td>1</td>\n",
       "      <td>10.0</td>\n",
       "      <td>37.0</td>\n",
       "      <td>0</td>\n",
       "      <td>5.7</td>\n",
       "      <td>0.0</td>\n",
       "    </tr>\n",
       "    <tr>\n",
       "      <th>4</th>\n",
       "      <td>U0005</td>\n",
       "      <td>28</td>\n",
       "      <td>Male</td>\n",
       "      <td>Student</td>\n",
       "      <td>Remote</td>\n",
       "      <td>13.22</td>\n",
       "      <td>4.09</td>\n",
       "      <td>9.13</td>\n",
       "      <td>5.79</td>\n",
       "      <td>1</td>\n",
       "      <td>10.0</td>\n",
       "      <td>38.5</td>\n",
       "      <td>143</td>\n",
       "      <td>10.1</td>\n",
       "      <td>0.0</td>\n",
       "    </tr>\n",
       "  </tbody>\n",
       "</table>\n",
       "</div>"
      ],
      "text/plain": [
       "  user_id  age  gender occupation  work_mode  screen_time_hours  \\\n",
       "0   U0001   33  Female   Employed     Remote              10.79   \n",
       "1   U0002   28  Female   Employed  In-person               7.40   \n",
       "2   U0003   35  Female   Employed     Hybrid               9.78   \n",
       "3   U0004   42    Male   Employed     Hybrid              11.13   \n",
       "4   U0005   28    Male    Student     Remote              13.22   \n",
       "\n",
       "   work_screen_hours  leisure_screen_hours  sleep_hours  sleep_quality_1_5  \\\n",
       "0               5.44                  5.35         6.63                  1   \n",
       "1               0.37                  7.03         8.05                  3   \n",
       "2               1.09                  8.69         6.48                  1   \n",
       "3               0.56                 10.57         6.89                  1   \n",
       "4               4.09                  9.13         5.79                  1   \n",
       "\n",
       "   stress_level_0_10  productivity_0_100  exercise_minutes_per_week  \\\n",
       "0                9.3                44.7                        127   \n",
       "1                5.7                78.0                         74   \n",
       "2                9.1                51.8                         67   \n",
       "3               10.0                37.0                          0   \n",
       "4               10.0                38.5                        143   \n",
       "\n",
       "   social_hours_per_week  mental_wellness_index_0_100  \n",
       "0                    0.7                          9.3  \n",
       "1                    2.1                         56.2  \n",
       "2                    8.0                          3.6  \n",
       "3                    5.7                          0.0  \n",
       "4                   10.1                          0.0  "
      ]
     },
     "execution_count": 5,
     "metadata": {},
     "output_type": "execute_result"
    }
   ],
   "source": [
    "# We drop it by index\n",
    "df.drop(df.columns[-1], axis=1, inplace=True)\n",
    "df.head()"
   ]
  },
  {
   "cell_type": "code",
   "execution_count": 6,
   "id": "7e3f0796-0331-4a4c-af70-4e2d98cd6d02",
   "metadata": {},
   "outputs": [
    {
     "name": "stdout",
     "output_type": "stream",
     "text": [
      "<class 'pandas.core.frame.DataFrame'>\n",
      "RangeIndex: 400 entries, 0 to 399\n",
      "Data columns (total 15 columns):\n",
      " #   Column                       Non-Null Count  Dtype  \n",
      "---  ------                       --------------  -----  \n",
      " 0   user_id                      400 non-null    object \n",
      " 1   age                          400 non-null    int64  \n",
      " 2   gender                       400 non-null    object \n",
      " 3   occupation                   400 non-null    object \n",
      " 4   work_mode                    400 non-null    object \n",
      " 5   screen_time_hours            400 non-null    float64\n",
      " 6   work_screen_hours            400 non-null    float64\n",
      " 7   leisure_screen_hours         400 non-null    float64\n",
      " 8   sleep_hours                  400 non-null    float64\n",
      " 9   sleep_quality_1_5            400 non-null    int64  \n",
      " 10  stress_level_0_10            400 non-null    float64\n",
      " 11  productivity_0_100           400 non-null    float64\n",
      " 12  exercise_minutes_per_week    400 non-null    int64  \n",
      " 13  social_hours_per_week        400 non-null    float64\n",
      " 14  mental_wellness_index_0_100  400 non-null    float64\n",
      "dtypes: float64(8), int64(3), object(4)\n",
      "memory usage: 47.0+ KB\n"
     ]
    }
   ],
   "source": [
    "df.info()"
   ]
  },
  {
   "cell_type": "code",
   "execution_count": 7,
   "id": "31be4838-1c07-4b07-8da5-bb9c867fd00d",
   "metadata": {},
   "outputs": [
    {
     "data": {
      "application/vnd.microsoft.datawrangler.viewer.v0+json": {
       "columns": [
        {
         "name": "index",
         "rawType": "object",
         "type": "string"
        },
        {
         "name": "0",
         "rawType": "int64",
         "type": "integer"
        }
       ],
       "ref": "797424dc-93d0-4ce4-ae46-835fe92410d7",
       "rows": [
        [
         "user_id",
         "0"
        ],
        [
         "age",
         "0"
        ],
        [
         "gender",
         "0"
        ],
        [
         "occupation",
         "0"
        ],
        [
         "work_mode",
         "0"
        ],
        [
         "screen_time_hours",
         "0"
        ],
        [
         "work_screen_hours",
         "0"
        ],
        [
         "leisure_screen_hours",
         "0"
        ],
        [
         "sleep_hours",
         "0"
        ],
        [
         "sleep_quality_1_5",
         "0"
        ],
        [
         "stress_level_0_10",
         "0"
        ],
        [
         "productivity_0_100",
         "0"
        ],
        [
         "exercise_minutes_per_week",
         "0"
        ],
        [
         "social_hours_per_week",
         "0"
        ],
        [
         "mental_wellness_index_0_100",
         "0"
        ]
       ],
       "shape": {
        "columns": 1,
        "rows": 15
       }
      },
      "text/plain": [
       "user_id                        0\n",
       "age                            0\n",
       "gender                         0\n",
       "occupation                     0\n",
       "work_mode                      0\n",
       "screen_time_hours              0\n",
       "work_screen_hours              0\n",
       "leisure_screen_hours           0\n",
       "sleep_hours                    0\n",
       "sleep_quality_1_5              0\n",
       "stress_level_0_10              0\n",
       "productivity_0_100             0\n",
       "exercise_minutes_per_week      0\n",
       "social_hours_per_week          0\n",
       "mental_wellness_index_0_100    0\n",
       "dtype: int64"
      ]
     },
     "execution_count": 7,
     "metadata": {},
     "output_type": "execute_result"
    }
   ],
   "source": [
    "df.isnull().sum()\n"
   ]
  },
  {
   "cell_type": "code",
   "execution_count": 8,
   "id": "d3e020db-51ec-4058-8e91-5c8eed081187",
   "metadata": {},
   "outputs": [
    {
     "data": {
      "text/plain": [
       "np.int64(0)"
      ]
     },
     "execution_count": 8,
     "metadata": {},
     "output_type": "execute_result"
    }
   ],
   "source": [
    "df.duplicated().sum()"
   ]
  },
  {
   "cell_type": "markdown",
   "id": "1f83c835-646b-4444-b31e-e7a996fb1fc7",
   "metadata": {},
   "source": [
    "On this Dataset, we can observe there are no duplicated values or null values"
   ]
  },
  {
   "cell_type": "code",
   "execution_count": 9,
   "id": "dae7b49b-2dde-490a-bb8f-828ee1267562",
   "metadata": {},
   "outputs": [
    {
     "data": {
      "application/vnd.microsoft.datawrangler.viewer.v0+json": {
       "columns": [
        {
         "name": "index",
         "rawType": "object",
         "type": "string"
        },
        {
         "name": "0",
         "rawType": "object",
         "type": "unknown"
        }
       ],
       "ref": "525ba70e-42a1-4d88-9466-255ce8eaecc0",
       "rows": [
        [
         "user_id",
         "object"
        ],
        [
         "age",
         "int64"
        ],
        [
         "gender",
         "object"
        ],
        [
         "occupation",
         "object"
        ],
        [
         "work_mode",
         "object"
        ],
        [
         "screen_time_hours",
         "float64"
        ],
        [
         "work_screen_hours",
         "float64"
        ],
        [
         "leisure_screen_hours",
         "float64"
        ],
        [
         "sleep_hours",
         "float64"
        ],
        [
         "sleep_quality_1_5",
         "int64"
        ],
        [
         "stress_level_0_10",
         "float64"
        ],
        [
         "productivity_0_100",
         "float64"
        ],
        [
         "exercise_minutes_per_week",
         "int64"
        ],
        [
         "social_hours_per_week",
         "float64"
        ],
        [
         "mental_wellness_index_0_100",
         "float64"
        ]
       ],
       "shape": {
        "columns": 1,
        "rows": 15
       }
      },
      "text/plain": [
       "user_id                         object\n",
       "age                              int64\n",
       "gender                          object\n",
       "occupation                      object\n",
       "work_mode                       object\n",
       "screen_time_hours              float64\n",
       "work_screen_hours              float64\n",
       "leisure_screen_hours           float64\n",
       "sleep_hours                    float64\n",
       "sleep_quality_1_5                int64\n",
       "stress_level_0_10              float64\n",
       "productivity_0_100             float64\n",
       "exercise_minutes_per_week        int64\n",
       "social_hours_per_week          float64\n",
       "mental_wellness_index_0_100    float64\n",
       "dtype: object"
      ]
     },
     "execution_count": 9,
     "metadata": {},
     "output_type": "execute_result"
    }
   ],
   "source": [
    "df.dtypes"
   ]
  },
  {
   "cell_type": "code",
   "execution_count": 10,
   "id": "97fd7472-edbb-4cb3-9b15-0142e6194c23",
   "metadata": {},
   "outputs": [
    {
     "data": {
      "application/vnd.microsoft.datawrangler.viewer.v0+json": {
       "columns": [
        {
         "name": "index",
         "rawType": "object",
         "type": "string"
        },
        {
         "name": "0",
         "rawType": "int64",
         "type": "integer"
        }
       ],
       "ref": "de48b9ec-5d34-4b9f-a702-b784b6cb80ae",
       "rows": [
        [
         "user_id",
         "400"
        ],
        [
         "age",
         "36"
        ],
        [
         "gender",
         "3"
        ],
        [
         "occupation",
         "5"
        ],
        [
         "work_mode",
         "3"
        ],
        [
         "screen_time_hours",
         "314"
        ],
        [
         "work_screen_hours",
         "262"
        ],
        [
         "leisure_screen_hours",
         "316"
        ],
        [
         "sleep_hours",
         "230"
        ],
        [
         "sleep_quality_1_5",
         "4"
        ],
        [
         "stress_level_0_10",
         "73"
        ],
        [
         "productivity_0_100",
         "276"
        ],
        [
         "exercise_minutes_per_week",
         "196"
        ],
        [
         "social_hours_per_week",
         "159"
        ],
        [
         "mental_wellness_index_0_100",
         "263"
        ]
       ],
       "shape": {
        "columns": 1,
        "rows": 15
       }
      },
      "text/plain": [
       "user_id                        400\n",
       "age                             36\n",
       "gender                           3\n",
       "occupation                       5\n",
       "work_mode                        3\n",
       "screen_time_hours              314\n",
       "work_screen_hours              262\n",
       "leisure_screen_hours           316\n",
       "sleep_hours                    230\n",
       "sleep_quality_1_5                4\n",
       "stress_level_0_10               73\n",
       "productivity_0_100             276\n",
       "exercise_minutes_per_week      196\n",
       "social_hours_per_week          159\n",
       "mental_wellness_index_0_100    263\n",
       "dtype: int64"
      ]
     },
     "execution_count": 10,
     "metadata": {},
     "output_type": "execute_result"
    }
   ],
   "source": [
    "df.nunique()"
   ]
  },
  {
   "cell_type": "code",
   "execution_count": 11,
   "id": "763b9085-d1b6-4a1f-871c-7bdee88809ad",
   "metadata": {},
   "outputs": [
    {
     "data": {
      "application/vnd.microsoft.datawrangler.viewer.v0+json": {
       "columns": [
        {
         "name": "index",
         "rawType": "object",
         "type": "string"
        },
        {
         "name": "user_id",
         "rawType": "object",
         "type": "unknown"
        },
        {
         "name": "age",
         "rawType": "float64",
         "type": "float"
        },
        {
         "name": "gender",
         "rawType": "object",
         "type": "unknown"
        },
        {
         "name": "occupation",
         "rawType": "object",
         "type": "unknown"
        },
        {
         "name": "work_mode",
         "rawType": "object",
         "type": "unknown"
        },
        {
         "name": "screen_time_hours",
         "rawType": "float64",
         "type": "float"
        },
        {
         "name": "work_screen_hours",
         "rawType": "float64",
         "type": "float"
        },
        {
         "name": "leisure_screen_hours",
         "rawType": "float64",
         "type": "float"
        },
        {
         "name": "sleep_hours",
         "rawType": "float64",
         "type": "float"
        },
        {
         "name": "sleep_quality_1_5",
         "rawType": "float64",
         "type": "float"
        },
        {
         "name": "stress_level_0_10",
         "rawType": "float64",
         "type": "float"
        },
        {
         "name": "productivity_0_100",
         "rawType": "float64",
         "type": "float"
        },
        {
         "name": "exercise_minutes_per_week",
         "rawType": "float64",
         "type": "float"
        },
        {
         "name": "social_hours_per_week",
         "rawType": "float64",
         "type": "float"
        },
        {
         "name": "mental_wellness_index_0_100",
         "rawType": "float64",
         "type": "float"
        }
       ],
       "ref": "dee0fc69-8e2f-4400-8433-e2ae66a4fd14",
       "rows": [
        [
         "count",
         "400",
         "400.0",
         "400",
         "400",
         "400",
         "400.0",
         "400.0",
         "400.0",
         "400.0",
         "400.0",
         "400.0",
         "400.0",
         "400.0",
         "400.0",
         "400.0"
        ],
        [
         "unique",
         "400",
         null,
         "3",
         "5",
         "3",
         null,
         null,
         null,
         null,
         null,
         null,
         null,
         null,
         null,
         null
        ],
        [
         "top",
         "U0001",
         null,
         "Female",
         "Employed",
         "Remote",
         null,
         null,
         null,
         null,
         null,
         null,
         null,
         null,
         null,
         null
        ],
        [
         "freq",
         "1",
         null,
         "222",
         "207",
         "150",
         null,
         null,
         null,
         null,
         null,
         null,
         null,
         null,
         null,
         null
        ],
        [
         "mean",
         null,
         "29.7775",
         null,
         null,
         null,
         "9.0249",
         "2.183075",
         "6.841825",
         "7.013175",
         "1.3975",
         "8.1505",
         "54.30650000000001",
         "109.81",
         "7.905",
         "20.32675"
        ],
        [
         "std",
         null,
         "7.466079936891926",
         null,
         null,
         null,
         "2.4910583934945203",
         "1.931320738215082",
         "2.220895847465212",
         "0.8524208012660635",
         "0.6523477938264799",
         "2.0948438310985686",
         "15.020053687718791",
         "70.00704511629374",
         "4.909631983717196",
         "20.376793017344"
        ],
        [
         "min",
         null,
         "16.0",
         null,
         null,
         null,
         "1.0",
         "0.11",
         "0.89",
         "4.64",
         "1.0",
         "0.0",
         "20.6",
         "0.0",
         "0.0",
         "0.0"
        ],
        [
         "25%",
         null,
         "24.0",
         null,
         null,
         null,
         "7.3725",
         "0.695",
         "5.46",
         "6.3975",
         "1.0",
         "6.9",
         "43.6",
         "58.0",
         "4.574999999999999",
         "3.6750000000000003"
        ],
        [
         "50%",
         null,
         "30.0",
         null,
         null,
         null,
         "9.09",
         "1.455",
         "6.7",
         "7.03",
         "1.0",
         "8.8",
         "51.75",
         "103.0",
         "7.75",
         "14.8"
        ],
        [
         "75%",
         null,
         "35.0",
         null,
         null,
         null,
         "10.495000000000001",
         "3.0124999999999997",
         "8.4175",
         "7.64",
         "2.0",
         "10.0",
         "63.0",
         "157.0",
         "11.025",
         "30.650000000000002"
        ],
        [
         "max",
         null,
         "60.0",
         null,
         null,
         null,
         "19.17",
         "12.04",
         "13.35",
         "9.74",
         "4.0",
         "10.0",
         "100.0",
         "372.0",
         "23.9",
         "97.0"
        ]
       ],
       "shape": {
        "columns": 15,
        "rows": 11
       }
      },
      "text/html": [
       "<div>\n",
       "<style scoped>\n",
       "    .dataframe tbody tr th:only-of-type {\n",
       "        vertical-align: middle;\n",
       "    }\n",
       "\n",
       "    .dataframe tbody tr th {\n",
       "        vertical-align: top;\n",
       "    }\n",
       "\n",
       "    .dataframe thead th {\n",
       "        text-align: right;\n",
       "    }\n",
       "</style>\n",
       "<table border=\"1\" class=\"dataframe\">\n",
       "  <thead>\n",
       "    <tr style=\"text-align: right;\">\n",
       "      <th></th>\n",
       "      <th>user_id</th>\n",
       "      <th>age</th>\n",
       "      <th>gender</th>\n",
       "      <th>occupation</th>\n",
       "      <th>work_mode</th>\n",
       "      <th>screen_time_hours</th>\n",
       "      <th>work_screen_hours</th>\n",
       "      <th>leisure_screen_hours</th>\n",
       "      <th>sleep_hours</th>\n",
       "      <th>sleep_quality_1_5</th>\n",
       "      <th>stress_level_0_10</th>\n",
       "      <th>productivity_0_100</th>\n",
       "      <th>exercise_minutes_per_week</th>\n",
       "      <th>social_hours_per_week</th>\n",
       "      <th>mental_wellness_index_0_100</th>\n",
       "    </tr>\n",
       "  </thead>\n",
       "  <tbody>\n",
       "    <tr>\n",
       "      <th>count</th>\n",
       "      <td>400</td>\n",
       "      <td>400.00000</td>\n",
       "      <td>400</td>\n",
       "      <td>400</td>\n",
       "      <td>400</td>\n",
       "      <td>400.000000</td>\n",
       "      <td>400.000000</td>\n",
       "      <td>400.000000</td>\n",
       "      <td>400.000000</td>\n",
       "      <td>400.000000</td>\n",
       "      <td>400.000000</td>\n",
       "      <td>400.000000</td>\n",
       "      <td>400.000000</td>\n",
       "      <td>400.000000</td>\n",
       "      <td>400.000000</td>\n",
       "    </tr>\n",
       "    <tr>\n",
       "      <th>unique</th>\n",
       "      <td>400</td>\n",
       "      <td>NaN</td>\n",
       "      <td>3</td>\n",
       "      <td>5</td>\n",
       "      <td>3</td>\n",
       "      <td>NaN</td>\n",
       "      <td>NaN</td>\n",
       "      <td>NaN</td>\n",
       "      <td>NaN</td>\n",
       "      <td>NaN</td>\n",
       "      <td>NaN</td>\n",
       "      <td>NaN</td>\n",
       "      <td>NaN</td>\n",
       "      <td>NaN</td>\n",
       "      <td>NaN</td>\n",
       "    </tr>\n",
       "    <tr>\n",
       "      <th>top</th>\n",
       "      <td>U0001</td>\n",
       "      <td>NaN</td>\n",
       "      <td>Female</td>\n",
       "      <td>Employed</td>\n",
       "      <td>Remote</td>\n",
       "      <td>NaN</td>\n",
       "      <td>NaN</td>\n",
       "      <td>NaN</td>\n",
       "      <td>NaN</td>\n",
       "      <td>NaN</td>\n",
       "      <td>NaN</td>\n",
       "      <td>NaN</td>\n",
       "      <td>NaN</td>\n",
       "      <td>NaN</td>\n",
       "      <td>NaN</td>\n",
       "    </tr>\n",
       "    <tr>\n",
       "      <th>freq</th>\n",
       "      <td>1</td>\n",
       "      <td>NaN</td>\n",
       "      <td>222</td>\n",
       "      <td>207</td>\n",
       "      <td>150</td>\n",
       "      <td>NaN</td>\n",
       "      <td>NaN</td>\n",
       "      <td>NaN</td>\n",
       "      <td>NaN</td>\n",
       "      <td>NaN</td>\n",
       "      <td>NaN</td>\n",
       "      <td>NaN</td>\n",
       "      <td>NaN</td>\n",
       "      <td>NaN</td>\n",
       "      <td>NaN</td>\n",
       "    </tr>\n",
       "    <tr>\n",
       "      <th>mean</th>\n",
       "      <td>NaN</td>\n",
       "      <td>29.77750</td>\n",
       "      <td>NaN</td>\n",
       "      <td>NaN</td>\n",
       "      <td>NaN</td>\n",
       "      <td>9.024900</td>\n",
       "      <td>2.183075</td>\n",
       "      <td>6.841825</td>\n",
       "      <td>7.013175</td>\n",
       "      <td>1.397500</td>\n",
       "      <td>8.150500</td>\n",
       "      <td>54.306500</td>\n",
       "      <td>109.810000</td>\n",
       "      <td>7.905000</td>\n",
       "      <td>20.326750</td>\n",
       "    </tr>\n",
       "    <tr>\n",
       "      <th>std</th>\n",
       "      <td>NaN</td>\n",
       "      <td>7.46608</td>\n",
       "      <td>NaN</td>\n",
       "      <td>NaN</td>\n",
       "      <td>NaN</td>\n",
       "      <td>2.491058</td>\n",
       "      <td>1.931321</td>\n",
       "      <td>2.220896</td>\n",
       "      <td>0.852421</td>\n",
       "      <td>0.652348</td>\n",
       "      <td>2.094844</td>\n",
       "      <td>15.020054</td>\n",
       "      <td>70.007045</td>\n",
       "      <td>4.909632</td>\n",
       "      <td>20.376793</td>\n",
       "    </tr>\n",
       "    <tr>\n",
       "      <th>min</th>\n",
       "      <td>NaN</td>\n",
       "      <td>16.00000</td>\n",
       "      <td>NaN</td>\n",
       "      <td>NaN</td>\n",
       "      <td>NaN</td>\n",
       "      <td>1.000000</td>\n",
       "      <td>0.110000</td>\n",
       "      <td>0.890000</td>\n",
       "      <td>4.640000</td>\n",
       "      <td>1.000000</td>\n",
       "      <td>0.000000</td>\n",
       "      <td>20.600000</td>\n",
       "      <td>0.000000</td>\n",
       "      <td>0.000000</td>\n",
       "      <td>0.000000</td>\n",
       "    </tr>\n",
       "    <tr>\n",
       "      <th>25%</th>\n",
       "      <td>NaN</td>\n",
       "      <td>24.00000</td>\n",
       "      <td>NaN</td>\n",
       "      <td>NaN</td>\n",
       "      <td>NaN</td>\n",
       "      <td>7.372500</td>\n",
       "      <td>0.695000</td>\n",
       "      <td>5.460000</td>\n",
       "      <td>6.397500</td>\n",
       "      <td>1.000000</td>\n",
       "      <td>6.900000</td>\n",
       "      <td>43.600000</td>\n",
       "      <td>58.000000</td>\n",
       "      <td>4.575000</td>\n",
       "      <td>3.675000</td>\n",
       "    </tr>\n",
       "    <tr>\n",
       "      <th>50%</th>\n",
       "      <td>NaN</td>\n",
       "      <td>30.00000</td>\n",
       "      <td>NaN</td>\n",
       "      <td>NaN</td>\n",
       "      <td>NaN</td>\n",
       "      <td>9.090000</td>\n",
       "      <td>1.455000</td>\n",
       "      <td>6.700000</td>\n",
       "      <td>7.030000</td>\n",
       "      <td>1.000000</td>\n",
       "      <td>8.800000</td>\n",
       "      <td>51.750000</td>\n",
       "      <td>103.000000</td>\n",
       "      <td>7.750000</td>\n",
       "      <td>14.800000</td>\n",
       "    </tr>\n",
       "    <tr>\n",
       "      <th>75%</th>\n",
       "      <td>NaN</td>\n",
       "      <td>35.00000</td>\n",
       "      <td>NaN</td>\n",
       "      <td>NaN</td>\n",
       "      <td>NaN</td>\n",
       "      <td>10.495000</td>\n",
       "      <td>3.012500</td>\n",
       "      <td>8.417500</td>\n",
       "      <td>7.640000</td>\n",
       "      <td>2.000000</td>\n",
       "      <td>10.000000</td>\n",
       "      <td>63.000000</td>\n",
       "      <td>157.000000</td>\n",
       "      <td>11.025000</td>\n",
       "      <td>30.650000</td>\n",
       "    </tr>\n",
       "    <tr>\n",
       "      <th>max</th>\n",
       "      <td>NaN</td>\n",
       "      <td>60.00000</td>\n",
       "      <td>NaN</td>\n",
       "      <td>NaN</td>\n",
       "      <td>NaN</td>\n",
       "      <td>19.170000</td>\n",
       "      <td>12.040000</td>\n",
       "      <td>13.350000</td>\n",
       "      <td>9.740000</td>\n",
       "      <td>4.000000</td>\n",
       "      <td>10.000000</td>\n",
       "      <td>100.000000</td>\n",
       "      <td>372.000000</td>\n",
       "      <td>23.900000</td>\n",
       "      <td>97.000000</td>\n",
       "    </tr>\n",
       "  </tbody>\n",
       "</table>\n",
       "</div>"
      ],
      "text/plain": [
       "       user_id        age  gender occupation work_mode  screen_time_hours  \\\n",
       "count      400  400.00000     400        400       400         400.000000   \n",
       "unique     400        NaN       3          5         3                NaN   \n",
       "top      U0001        NaN  Female   Employed    Remote                NaN   \n",
       "freq         1        NaN     222        207       150                NaN   \n",
       "mean       NaN   29.77750     NaN        NaN       NaN           9.024900   \n",
       "std        NaN    7.46608     NaN        NaN       NaN           2.491058   \n",
       "min        NaN   16.00000     NaN        NaN       NaN           1.000000   \n",
       "25%        NaN   24.00000     NaN        NaN       NaN           7.372500   \n",
       "50%        NaN   30.00000     NaN        NaN       NaN           9.090000   \n",
       "75%        NaN   35.00000     NaN        NaN       NaN          10.495000   \n",
       "max        NaN   60.00000     NaN        NaN       NaN          19.170000   \n",
       "\n",
       "        work_screen_hours  leisure_screen_hours  sleep_hours  \\\n",
       "count          400.000000            400.000000   400.000000   \n",
       "unique                NaN                   NaN          NaN   \n",
       "top                   NaN                   NaN          NaN   \n",
       "freq                  NaN                   NaN          NaN   \n",
       "mean             2.183075              6.841825     7.013175   \n",
       "std              1.931321              2.220896     0.852421   \n",
       "min              0.110000              0.890000     4.640000   \n",
       "25%              0.695000              5.460000     6.397500   \n",
       "50%              1.455000              6.700000     7.030000   \n",
       "75%              3.012500              8.417500     7.640000   \n",
       "max             12.040000             13.350000     9.740000   \n",
       "\n",
       "        sleep_quality_1_5  stress_level_0_10  productivity_0_100  \\\n",
       "count          400.000000         400.000000          400.000000   \n",
       "unique                NaN                NaN                 NaN   \n",
       "top                   NaN                NaN                 NaN   \n",
       "freq                  NaN                NaN                 NaN   \n",
       "mean             1.397500           8.150500           54.306500   \n",
       "std              0.652348           2.094844           15.020054   \n",
       "min              1.000000           0.000000           20.600000   \n",
       "25%              1.000000           6.900000           43.600000   \n",
       "50%              1.000000           8.800000           51.750000   \n",
       "75%              2.000000          10.000000           63.000000   \n",
       "max              4.000000          10.000000          100.000000   \n",
       "\n",
       "        exercise_minutes_per_week  social_hours_per_week  \\\n",
       "count                  400.000000             400.000000   \n",
       "unique                        NaN                    NaN   \n",
       "top                           NaN                    NaN   \n",
       "freq                          NaN                    NaN   \n",
       "mean                   109.810000               7.905000   \n",
       "std                     70.007045               4.909632   \n",
       "min                      0.000000               0.000000   \n",
       "25%                     58.000000               4.575000   \n",
       "50%                    103.000000               7.750000   \n",
       "75%                    157.000000              11.025000   \n",
       "max                    372.000000              23.900000   \n",
       "\n",
       "        mental_wellness_index_0_100  \n",
       "count                    400.000000  \n",
       "unique                          NaN  \n",
       "top                             NaN  \n",
       "freq                            NaN  \n",
       "mean                      20.326750  \n",
       "std                       20.376793  \n",
       "min                        0.000000  \n",
       "25%                        3.675000  \n",
       "50%                       14.800000  \n",
       "75%                       30.650000  \n",
       "max                       97.000000  "
      ]
     },
     "execution_count": 11,
     "metadata": {},
     "output_type": "execute_result"
    }
   ],
   "source": [
    "df.describe(include=\"all\")"
   ]
  },
  {
   "cell_type": "code",
   "execution_count": 12,
   "id": "b0e1854b-2bd2-44c7-99ae-93f99f71d747",
   "metadata": {},
   "outputs": [
    {
     "data": {
      "application/vnd.microsoft.datawrangler.viewer.v0+json": {
       "columns": [
        {
         "name": "user_id",
         "rawType": "object",
         "type": "string"
        },
        {
         "name": "age",
         "rawType": "int64",
         "type": "integer"
        },
        {
         "name": "gender",
         "rawType": "object",
         "type": "string"
        },
        {
         "name": "occupation",
         "rawType": "object",
         "type": "string"
        },
        {
         "name": "work_mode",
         "rawType": "object",
         "type": "string"
        },
        {
         "name": "screen_time_hours",
         "rawType": "float64",
         "type": "float"
        },
        {
         "name": "work_screen_hours",
         "rawType": "float64",
         "type": "float"
        },
        {
         "name": "leisure_screen_hours",
         "rawType": "float64",
         "type": "float"
        },
        {
         "name": "sleep_hours",
         "rawType": "float64",
         "type": "float"
        },
        {
         "name": "sleep_quality_1_5",
         "rawType": "int64",
         "type": "integer"
        },
        {
         "name": "stress_level_0_10",
         "rawType": "float64",
         "type": "float"
        },
        {
         "name": "productivity_0_100",
         "rawType": "float64",
         "type": "float"
        },
        {
         "name": "exercise_minutes_per_week",
         "rawType": "int64",
         "type": "integer"
        },
        {
         "name": "social_hours_per_week",
         "rawType": "float64",
         "type": "float"
        },
        {
         "name": "mental_wellness_index_0_100",
         "rawType": "float64",
         "type": "float"
        }
       ],
       "ref": "9a2b9daa-70a4-4269-a6e3-11c76ed9a63a",
       "rows": [
        [
         "U0001",
         "33",
         "Female",
         "Employed",
         "Remote",
         "10.79",
         "5.44",
         "5.35",
         "6.63",
         "1",
         "9.3",
         "44.7",
         "127",
         "0.7",
         "9.3"
        ],
        [
         "U0002",
         "28",
         "Female",
         "Employed",
         "In-person",
         "7.4",
         "0.37",
         "7.03",
         "8.05",
         "3",
         "5.7",
         "78.0",
         "74",
         "2.1",
         "56.2"
        ],
        [
         "U0003",
         "35",
         "Female",
         "Employed",
         "Hybrid",
         "9.78",
         "1.09",
         "8.69",
         "6.48",
         "1",
         "9.1",
         "51.8",
         "67",
         "8.0",
         "3.6"
        ],
        [
         "U0004",
         "42",
         "Male",
         "Employed",
         "Hybrid",
         "11.13",
         "0.56",
         "10.57",
         "6.89",
         "1",
         "10.0",
         "37.0",
         "0",
         "5.7",
         "0.0"
        ],
        [
         "U0005",
         "28",
         "Male",
         "Student",
         "Remote",
         "13.22",
         "4.09",
         "9.13",
         "5.79",
         "1",
         "10.0",
         "38.5",
         "143",
         "10.1",
         "0.0"
        ],
        [
         "U0006",
         "28",
         "Non-binary/Other",
         "Self-employed",
         "Hybrid",
         "9.83",
         "0.53",
         "9.3",
         "7.19",
         "1",
         "10.0",
         "44.0",
         "71",
         "10.3",
         "5.0"
        ],
        [
         "U0007",
         "42",
         "Non-binary/Other",
         "Retired",
         "Remote",
         "6.02",
         "2.82",
         "3.2",
         "7.44",
         "2",
         "6.1",
         "64.8",
         "141",
         "4.7",
         "43.7"
        ],
        [
         "U0008",
         "36",
         "Male",
         "Employed",
         "In-person",
         "6.21",
         "0.75",
         "5.46",
         "6.78",
         "2",
         "5.4",
         "87.0",
         "51",
         "18.7",
         "54.3"
        ],
        [
         "U0009",
         "26",
         "Male",
         "Student",
         "In-person",
         "6.28",
         "0.67",
         "5.61",
         "8.48",
         "4",
         "1.6",
         "91.7",
         "149",
         "10.1",
         "86.8"
        ],
        [
         "U0010",
         "34",
         "Male",
         "Employed",
         "Hybrid",
         "9.37",
         "0.84",
         "8.53",
         "7.78",
         "2",
         "10.0",
         "42.2",
         "50",
         "12.7",
         "10.7"
        ],
        [
         "U0011",
         "26",
         "Male",
         "Student",
         "Remote",
         "9.87",
         "3.02",
         "6.85",
         "6.4",
         "1",
         "8.8",
         "55.9",
         "87",
         "6.2",
         "21.8"
        ],
        [
         "U0012",
         "26",
         "Female",
         "Unemployed",
         "Hybrid",
         "4.96",
         "0.25",
         "4.71",
         "8.01",
         "3",
         "4.6",
         "88.4",
         "188",
         "12.5",
         "74.3"
        ],
        [
         "U0013",
         "31",
         "Female",
         "Student",
         "Remote",
         "12.55",
         "6.8",
         "5.75",
         "6.96",
         "1",
         "10.0",
         "33.0",
         "139",
         "11.3",
         "0.0"
        ],
        [
         "U0014",
         "16",
         "Female",
         "Employed",
         "Remote",
         "7.86",
         "4.33",
         "3.53",
         "7.59",
         "2",
         "6.3",
         "70.7",
         "102",
         "8.6",
         "40.9"
        ],
        [
         "U0015",
         "16",
         "Male",
         "Employed",
         "Hybrid",
         "9.07",
         "0.79",
         "8.28",
         "5.54",
         "1",
         "10.0",
         "53.2",
         "0",
         "0.0",
         "10.7"
        ],
        [
         "U0016",
         "25",
         "Male",
         "Employed",
         "Hybrid",
         "13.49",
         "2.82",
         "10.67",
         "7.13",
         "1",
         "10.0",
         "37.6",
         "284",
         "2.8",
         "0.0"
        ],
        [
         "U0017",
         "21",
         "Female",
         "Employed",
         "In-person",
         "8.86",
         "0.82",
         "8.04",
         "6.53",
         "1",
         "10.0",
         "60.3",
         "223",
         "13.1",
         "10.5"
        ],
        [
         "U0018",
         "32",
         "Male",
         "Self-employed",
         "Hybrid",
         "7.13",
         "0.82",
         "6.31",
         "7.06",
         "1",
         "7.0",
         "49.0",
         "167",
         "11.6",
         "29.5"
        ],
        [
         "U0019",
         "22",
         "Male",
         "Student",
         "Hybrid",
         "8.18",
         "0.7",
         "7.48",
         "9.2",
         "3",
         "4.2",
         "85.1",
         "52",
         "11.2",
         "68.9"
        ],
        [
         "U0020",
         "18",
         "Female",
         "Student",
         "Remote",
         "10.26",
         "5.73",
         "4.53",
         "6.98",
         "1",
         "9.4",
         "52.0",
         "82",
         "1.5",
         "10.8"
        ],
        [
         "U0021",
         "41",
         "Female",
         "Student",
         "Remote",
         "10.14",
         "3.29",
         "6.85",
         "6.68",
         "1",
         "10.0",
         "48.1",
         "65",
         "2.8",
         "0.0"
        ],
        [
         "U0022",
         "28",
         "Male",
         "Unemployed",
         "Remote",
         "7.52",
         "2.89",
         "4.63",
         "5.49",
         "1",
         "8.1",
         "53.1",
         "200",
         "13.2",
         "18.2"
        ],
        [
         "U0023",
         "30",
         "Male",
         "Self-employed",
         "In-person",
         "7.67",
         "1.65",
         "6.02",
         "8.36",
         "3",
         "5.1",
         "76.4",
         "130",
         "8.9",
         "53.5"
        ],
        [
         "U0024",
         "18",
         "Male",
         "Employed",
         "Remote",
         "5.74",
         "2.33",
         "3.41",
         "6.34",
         "1",
         "3.7",
         "77.3",
         "63",
         "17.6",
         "48.7"
        ],
        [
         "U0025",
         "25",
         "Male",
         "Employed",
         "In-person",
         "8.93",
         "0.45",
         "8.48",
         "6.21",
         "1",
         "9.8",
         "50.3",
         "69",
         "8.5",
         "0.7"
        ],
        [
         "U0026",
         "30",
         "Male",
         "Employed",
         "Hybrid",
         "7.05",
         "0.8",
         "6.25",
         "7.08",
         "1",
         "10.0",
         "51.0",
         "194",
         "8.6",
         "1.8"
        ],
        [
         "U0027",
         "20",
         "Male",
         "Student",
         "Remote",
         "11.3",
         "5.17",
         "6.13",
         "7.74",
         "2",
         "10.0",
         "53.3",
         "197",
         "7.4",
         "4.6"
        ],
        [
         "U0028",
         "33",
         "Male",
         "Unemployed",
         "In-person",
         "6.61",
         "0.33",
         "6.28",
         "8.06",
         "2",
         "7.0",
         "60.0",
         "227",
         "3.5",
         "42.8"
        ],
        [
         "U0029",
         "25",
         "Male",
         "Employed",
         "Hybrid",
         "7.43",
         "0.73",
         "6.7",
         "7.11",
         "2",
         "7.6",
         "61.1",
         "164",
         "0.0",
         "28.9"
        ],
        [
         "U0030",
         "27",
         "Female",
         "Employed",
         "In-person",
         "9.57",
         "0.48",
         "9.09",
         "7.18",
         "1",
         "10.0",
         "38.0",
         "81",
         "9.1",
         "0.9"
        ],
        [
         "U0031",
         "25",
         "Female",
         "Employed",
         "In-person",
         "6.37",
         "0.78",
         "5.59",
         "6.91",
         "1",
         "8.5",
         "52.1",
         "0",
         "8.9",
         "11.1"
        ],
        [
         "U0032",
         "44",
         "Female",
         "Student",
         "Remote",
         "14.35",
         "7.54",
         "6.81",
         "6.5",
         "1",
         "10.0",
         "42.6",
         "100",
         "5.1",
         "0.0"
        ],
        [
         "U0033",
         "29",
         "Male",
         "Student",
         "Remote",
         "6.89",
         "1.25",
         "5.64",
         "7.42",
         "1",
         "7.0",
         "60.3",
         "116",
         "0.2",
         "17.2"
        ],
        [
         "U0034",
         "21",
         "Male",
         "Employed",
         "Hybrid",
         "11.38",
         "0.57",
         "10.81",
         "7.38",
         "1",
         "9.9",
         "57.0",
         "95",
         "11.4",
         "2.4"
        ],
        [
         "U0035",
         "36",
         "Male",
         "Student",
         "In-person",
         "13.05",
         "0.65",
         "12.4",
         "7.28",
         "1",
         "10.0",
         "39.6",
         "86",
         "4.2",
         "0.0"
        ],
        [
         "U0036",
         "20",
         "Female",
         "Employed",
         "Remote",
         "7.47",
         "3.01",
         "4.46",
         "7.57",
         "1",
         "8.4",
         "53.6",
         "15",
         "14.3",
         "14.8"
        ],
        [
         "U0037",
         "31",
         "Female",
         "Student",
         "Hybrid",
         "9.93",
         "1.89",
         "8.04",
         "6.63",
         "1",
         "9.5",
         "45.7",
         "138",
         "15.2",
         "2.2"
        ],
        [
         "U0038",
         "16",
         "Female",
         "Employed",
         "Hybrid",
         "8.08",
         "1.25",
         "6.83",
         "7.64",
         "3",
         "6.5",
         "68.1",
         "147",
         "0.0",
         "57.6"
        ],
        [
         "U0039",
         "19",
         "Female",
         "Employed",
         "In-person",
         "7.88",
         "0.39",
         "7.49",
         "7.03",
         "1",
         "9.0",
         "49.8",
         "153",
         "7.6",
         "17.7"
        ],
        [
         "U0040",
         "31",
         "Male",
         "Employed",
         "Remote",
         "8.81",
         "3.92",
         "4.89",
         "6.22",
         "1",
         "10.0",
         "51.6",
         "172",
         "5.7",
         "12.5"
        ],
        [
         "U0041",
         "35",
         "Female",
         "Employed",
         "In-person",
         "5.65",
         "0.36",
         "5.29",
         "7.28",
         "2",
         "7.2",
         "67.4",
         "169",
         "19.4",
         "35.2"
        ],
        [
         "U0042",
         "31",
         "Female",
         "Employed",
         "In-person",
         "9.31",
         "0.65",
         "8.66",
         "7.08",
         "2",
         "8.4",
         "51.7",
         "74",
         "1.1",
         "30.4"
        ],
        [
         "U0043",
         "29",
         "Male",
         "Employed",
         "Remote",
         "7.72",
         "5.52",
         "2.2",
         "7.96",
         "3",
         "3.8",
         "77.7",
         "106",
         "17.5",
         "62.2"
        ],
        [
         "U0044",
         "27",
         "Female",
         "Employed",
         "Remote",
         "11.81",
         "4.64",
         "7.17",
         "6.45",
         "1",
         "10.0",
         "37.6",
         "92",
         "3.5",
         "0.0"
        ],
        [
         "U0045",
         "18",
         "Female",
         "Employed",
         "In-person",
         "6.71",
         "0.74",
         "5.97",
         "6.31",
         "1",
         "7.4",
         "58.8",
         "119",
         "8.0",
         "23.3"
        ],
        [
         "U0046",
         "24",
         "Male",
         "Unemployed",
         "Remote",
         "6.1",
         "1.57",
         "4.53",
         "7.47",
         "1",
         "4.1",
         "79.6",
         "188",
         "8.0",
         "53.0"
        ],
        [
         "U0047",
         "26",
         "Female",
         "Employed",
         "In-person",
         "7.46",
         "1.45",
         "6.01",
         "7.33",
         "2",
         "8.9",
         "49.2",
         "156",
         "8.4",
         "23.7"
        ],
        [
         "U0048",
         "38",
         "Male",
         "Student",
         "Remote",
         "14.22",
         "7.52",
         "6.7",
         "6.5",
         "1",
         "10.0",
         "34.8",
         "222",
         "13.9",
         "0.0"
        ],
        [
         "U0049",
         "32",
         "Male",
         "Student",
         "Remote",
         "9.93",
         "3.77",
         "6.16",
         "7.67",
         "2",
         "9.3",
         "52.8",
         "254",
         "0.5",
         "18.5"
        ],
        [
         "U0050",
         "16",
         "Male",
         "Employed",
         "In-person",
         "13.29",
         "0.99",
         "12.3",
         "7.08",
         "1",
         "10.0",
         "27.1",
         "77",
         "9.2",
         "0.0"
        ]
       ],
       "shape": {
        "columns": 14,
        "rows": 400
       }
      },
      "text/html": [
       "<div>\n",
       "<style scoped>\n",
       "    .dataframe tbody tr th:only-of-type {\n",
       "        vertical-align: middle;\n",
       "    }\n",
       "\n",
       "    .dataframe tbody tr th {\n",
       "        vertical-align: top;\n",
       "    }\n",
       "\n",
       "    .dataframe thead th {\n",
       "        text-align: right;\n",
       "    }\n",
       "</style>\n",
       "<table border=\"1\" class=\"dataframe\">\n",
       "  <thead>\n",
       "    <tr style=\"text-align: right;\">\n",
       "      <th></th>\n",
       "      <th>age</th>\n",
       "      <th>gender</th>\n",
       "      <th>occupation</th>\n",
       "      <th>work_mode</th>\n",
       "      <th>screen_time_hours</th>\n",
       "      <th>work_screen_hours</th>\n",
       "      <th>leisure_screen_hours</th>\n",
       "      <th>sleep_hours</th>\n",
       "      <th>sleep_quality_1_5</th>\n",
       "      <th>stress_level_0_10</th>\n",
       "      <th>productivity_0_100</th>\n",
       "      <th>exercise_minutes_per_week</th>\n",
       "      <th>social_hours_per_week</th>\n",
       "      <th>mental_wellness_index_0_100</th>\n",
       "    </tr>\n",
       "    <tr>\n",
       "      <th>user_id</th>\n",
       "      <th></th>\n",
       "      <th></th>\n",
       "      <th></th>\n",
       "      <th></th>\n",
       "      <th></th>\n",
       "      <th></th>\n",
       "      <th></th>\n",
       "      <th></th>\n",
       "      <th></th>\n",
       "      <th></th>\n",
       "      <th></th>\n",
       "      <th></th>\n",
       "      <th></th>\n",
       "      <th></th>\n",
       "    </tr>\n",
       "  </thead>\n",
       "  <tbody>\n",
       "    <tr>\n",
       "      <th>U0001</th>\n",
       "      <td>33</td>\n",
       "      <td>Female</td>\n",
       "      <td>Employed</td>\n",
       "      <td>Remote</td>\n",
       "      <td>10.79</td>\n",
       "      <td>5.44</td>\n",
       "      <td>5.35</td>\n",
       "      <td>6.63</td>\n",
       "      <td>1</td>\n",
       "      <td>9.3</td>\n",
       "      <td>44.7</td>\n",
       "      <td>127</td>\n",
       "      <td>0.7</td>\n",
       "      <td>9.3</td>\n",
       "    </tr>\n",
       "    <tr>\n",
       "      <th>U0002</th>\n",
       "      <td>28</td>\n",
       "      <td>Female</td>\n",
       "      <td>Employed</td>\n",
       "      <td>In-person</td>\n",
       "      <td>7.40</td>\n",
       "      <td>0.37</td>\n",
       "      <td>7.03</td>\n",
       "      <td>8.05</td>\n",
       "      <td>3</td>\n",
       "      <td>5.7</td>\n",
       "      <td>78.0</td>\n",
       "      <td>74</td>\n",
       "      <td>2.1</td>\n",
       "      <td>56.2</td>\n",
       "    </tr>\n",
       "    <tr>\n",
       "      <th>U0003</th>\n",
       "      <td>35</td>\n",
       "      <td>Female</td>\n",
       "      <td>Employed</td>\n",
       "      <td>Hybrid</td>\n",
       "      <td>9.78</td>\n",
       "      <td>1.09</td>\n",
       "      <td>8.69</td>\n",
       "      <td>6.48</td>\n",
       "      <td>1</td>\n",
       "      <td>9.1</td>\n",
       "      <td>51.8</td>\n",
       "      <td>67</td>\n",
       "      <td>8.0</td>\n",
       "      <td>3.6</td>\n",
       "    </tr>\n",
       "    <tr>\n",
       "      <th>U0004</th>\n",
       "      <td>42</td>\n",
       "      <td>Male</td>\n",
       "      <td>Employed</td>\n",
       "      <td>Hybrid</td>\n",
       "      <td>11.13</td>\n",
       "      <td>0.56</td>\n",
       "      <td>10.57</td>\n",
       "      <td>6.89</td>\n",
       "      <td>1</td>\n",
       "      <td>10.0</td>\n",
       "      <td>37.0</td>\n",
       "      <td>0</td>\n",
       "      <td>5.7</td>\n",
       "      <td>0.0</td>\n",
       "    </tr>\n",
       "    <tr>\n",
       "      <th>U0005</th>\n",
       "      <td>28</td>\n",
       "      <td>Male</td>\n",
       "      <td>Student</td>\n",
       "      <td>Remote</td>\n",
       "      <td>13.22</td>\n",
       "      <td>4.09</td>\n",
       "      <td>9.13</td>\n",
       "      <td>5.79</td>\n",
       "      <td>1</td>\n",
       "      <td>10.0</td>\n",
       "      <td>38.5</td>\n",
       "      <td>143</td>\n",
       "      <td>10.1</td>\n",
       "      <td>0.0</td>\n",
       "    </tr>\n",
       "    <tr>\n",
       "      <th>...</th>\n",
       "      <td>...</td>\n",
       "      <td>...</td>\n",
       "      <td>...</td>\n",
       "      <td>...</td>\n",
       "      <td>...</td>\n",
       "      <td>...</td>\n",
       "      <td>...</td>\n",
       "      <td>...</td>\n",
       "      <td>...</td>\n",
       "      <td>...</td>\n",
       "      <td>...</td>\n",
       "      <td>...</td>\n",
       "      <td>...</td>\n",
       "      <td>...</td>\n",
       "    </tr>\n",
       "    <tr>\n",
       "      <th>U0396</th>\n",
       "      <td>26</td>\n",
       "      <td>Female</td>\n",
       "      <td>Student</td>\n",
       "      <td>Remote</td>\n",
       "      <td>6.43</td>\n",
       "      <td>2.99</td>\n",
       "      <td>3.44</td>\n",
       "      <td>7.75</td>\n",
       "      <td>1</td>\n",
       "      <td>5.9</td>\n",
       "      <td>64.6</td>\n",
       "      <td>252</td>\n",
       "      <td>7.6</td>\n",
       "      <td>39.3</td>\n",
       "    </tr>\n",
       "    <tr>\n",
       "      <th>U0397</th>\n",
       "      <td>16</td>\n",
       "      <td>Male</td>\n",
       "      <td>Self-employed</td>\n",
       "      <td>Remote</td>\n",
       "      <td>9.59</td>\n",
       "      <td>5.44</td>\n",
       "      <td>4.15</td>\n",
       "      <td>5.57</td>\n",
       "      <td>1</td>\n",
       "      <td>10.0</td>\n",
       "      <td>47.4</td>\n",
       "      <td>99</td>\n",
       "      <td>7.0</td>\n",
       "      <td>3.5</td>\n",
       "    </tr>\n",
       "    <tr>\n",
       "      <th>U0398</th>\n",
       "      <td>40</td>\n",
       "      <td>Male</td>\n",
       "      <td>Student</td>\n",
       "      <td>Remote</td>\n",
       "      <td>8.72</td>\n",
       "      <td>2.36</td>\n",
       "      <td>6.36</td>\n",
       "      <td>7.56</td>\n",
       "      <td>1</td>\n",
       "      <td>9.4</td>\n",
       "      <td>57.3</td>\n",
       "      <td>193</td>\n",
       "      <td>10.1</td>\n",
       "      <td>6.6</td>\n",
       "    </tr>\n",
       "    <tr>\n",
       "      <th>U0399</th>\n",
       "      <td>29</td>\n",
       "      <td>Female</td>\n",
       "      <td>Retired</td>\n",
       "      <td>Hybrid</td>\n",
       "      <td>5.04</td>\n",
       "      <td>0.94</td>\n",
       "      <td>4.10</td>\n",
       "      <td>7.32</td>\n",
       "      <td>1</td>\n",
       "      <td>7.1</td>\n",
       "      <td>63.6</td>\n",
       "      <td>97</td>\n",
       "      <td>12.1</td>\n",
       "      <td>21.0</td>\n",
       "    </tr>\n",
       "    <tr>\n",
       "      <th>U0400</th>\n",
       "      <td>39</td>\n",
       "      <td>Female</td>\n",
       "      <td>Employed</td>\n",
       "      <td>Remote</td>\n",
       "      <td>8.86</td>\n",
       "      <td>3.82</td>\n",
       "      <td>5.04</td>\n",
       "      <td>6.55</td>\n",
       "      <td>1</td>\n",
       "      <td>10.0</td>\n",
       "      <td>41.4</td>\n",
       "      <td>88</td>\n",
       "      <td>9.8</td>\n",
       "      <td>8.4</td>\n",
       "    </tr>\n",
       "  </tbody>\n",
       "</table>\n",
       "<p>400 rows × 14 columns</p>\n",
       "</div>"
      ],
      "text/plain": [
       "         age  gender     occupation  work_mode  screen_time_hours  \\\n",
       "user_id                                                             \n",
       "U0001     33  Female       Employed     Remote              10.79   \n",
       "U0002     28  Female       Employed  In-person               7.40   \n",
       "U0003     35  Female       Employed     Hybrid               9.78   \n",
       "U0004     42    Male       Employed     Hybrid              11.13   \n",
       "U0005     28    Male        Student     Remote              13.22   \n",
       "...      ...     ...            ...        ...                ...   \n",
       "U0396     26  Female        Student     Remote               6.43   \n",
       "U0397     16    Male  Self-employed     Remote               9.59   \n",
       "U0398     40    Male        Student     Remote               8.72   \n",
       "U0399     29  Female        Retired     Hybrid               5.04   \n",
       "U0400     39  Female       Employed     Remote               8.86   \n",
       "\n",
       "         work_screen_hours  leisure_screen_hours  sleep_hours  \\\n",
       "user_id                                                         \n",
       "U0001                 5.44                  5.35         6.63   \n",
       "U0002                 0.37                  7.03         8.05   \n",
       "U0003                 1.09                  8.69         6.48   \n",
       "U0004                 0.56                 10.57         6.89   \n",
       "U0005                 4.09                  9.13         5.79   \n",
       "...                    ...                   ...          ...   \n",
       "U0396                 2.99                  3.44         7.75   \n",
       "U0397                 5.44                  4.15         5.57   \n",
       "U0398                 2.36                  6.36         7.56   \n",
       "U0399                 0.94                  4.10         7.32   \n",
       "U0400                 3.82                  5.04         6.55   \n",
       "\n",
       "         sleep_quality_1_5  stress_level_0_10  productivity_0_100  \\\n",
       "user_id                                                             \n",
       "U0001                    1                9.3                44.7   \n",
       "U0002                    3                5.7                78.0   \n",
       "U0003                    1                9.1                51.8   \n",
       "U0004                    1               10.0                37.0   \n",
       "U0005                    1               10.0                38.5   \n",
       "...                    ...                ...                 ...   \n",
       "U0396                    1                5.9                64.6   \n",
       "U0397                    1               10.0                47.4   \n",
       "U0398                    1                9.4                57.3   \n",
       "U0399                    1                7.1                63.6   \n",
       "U0400                    1               10.0                41.4   \n",
       "\n",
       "         exercise_minutes_per_week  social_hours_per_week  \\\n",
       "user_id                                                     \n",
       "U0001                          127                    0.7   \n",
       "U0002                           74                    2.1   \n",
       "U0003                           67                    8.0   \n",
       "U0004                            0                    5.7   \n",
       "U0005                          143                   10.1   \n",
       "...                            ...                    ...   \n",
       "U0396                          252                    7.6   \n",
       "U0397                           99                    7.0   \n",
       "U0398                          193                   10.1   \n",
       "U0399                           97                   12.1   \n",
       "U0400                           88                    9.8   \n",
       "\n",
       "         mental_wellness_index_0_100  \n",
       "user_id                               \n",
       "U0001                            9.3  \n",
       "U0002                           56.2  \n",
       "U0003                            3.6  \n",
       "U0004                            0.0  \n",
       "U0005                            0.0  \n",
       "...                              ...  \n",
       "U0396                           39.3  \n",
       "U0397                            3.5  \n",
       "U0398                            6.6  \n",
       "U0399                           21.0  \n",
       "U0400                            8.4  \n",
       "\n",
       "[400 rows x 14 columns]"
      ]
     },
     "execution_count": 12,
     "metadata": {},
     "output_type": "execute_result"
    }
   ],
   "source": [
    "# We are setting the user_id as index\n",
    "df.set_index(\"user_id\")"
   ]
  },
  {
   "cell_type": "code",
   "execution_count": 13,
   "id": "08c2c5af-a42c-4a6a-b00f-c65b14de561a",
   "metadata": {},
   "outputs": [
    {
     "name": "stdout",
     "output_type": "stream",
     "text": [
      "cleaned_data.csv has been saved\n"
     ]
    }
   ],
   "source": [
    "df.to_csv(\"cleaned_data.csv\", index=False)\n",
    "print(\"cleaned_data.csv has been saved\")"
   ]
  },
  {
   "cell_type": "code",
   "execution_count": 14,
   "id": "fe12adba-4456-40d2-8a83-b59ae7db9ae3",
   "metadata": {},
   "outputs": [],
   "source": [
    "df = pd.read_csv(\"cleaned_data.csv\")\n",
    "df = df.copy()"
   ]
  },
  {
   "cell_type": "code",
   "execution_count": 15,
   "id": "8a8feb56-ddee-4d66-a436-a947322e4b98",
   "metadata": {},
   "outputs": [],
   "source": [
    "df = df.set_index(\"user_id\")"
   ]
  },
  {
   "cell_type": "code",
   "execution_count": 16,
   "id": "dfce65c5-0480-4133-a921-d34b7cf07188",
   "metadata": {},
   "outputs": [],
   "source": [
    "num = df.select_dtypes(include=\"number\")\n",
    "cat = df.select_dtypes(exclude=\"number\")"
   ]
  },
  {
   "cell_type": "code",
   "execution_count": 17,
   "id": "30efd7eb-2d66-41d3-8952-8793650920fc",
   "metadata": {},
   "outputs": [
    {
     "data": {
      "application/vnd.microsoft.datawrangler.viewer.v0+json": {
       "columns": [
        {
         "name": "user_id",
         "rawType": "object",
         "type": "string"
        },
        {
         "name": "age",
         "rawType": "int64",
         "type": "integer"
        },
        {
         "name": "screen_time_hours",
         "rawType": "float64",
         "type": "float"
        },
        {
         "name": "work_screen_hours",
         "rawType": "float64",
         "type": "float"
        },
        {
         "name": "leisure_screen_hours",
         "rawType": "float64",
         "type": "float"
        },
        {
         "name": "sleep_hours",
         "rawType": "float64",
         "type": "float"
        },
        {
         "name": "sleep_quality_1_5",
         "rawType": "int64",
         "type": "integer"
        },
        {
         "name": "stress_level_0_10",
         "rawType": "float64",
         "type": "float"
        },
        {
         "name": "productivity_0_100",
         "rawType": "float64",
         "type": "float"
        },
        {
         "name": "exercise_minutes_per_week",
         "rawType": "int64",
         "type": "integer"
        },
        {
         "name": "social_hours_per_week",
         "rawType": "float64",
         "type": "float"
        },
        {
         "name": "mental_wellness_index_0_100",
         "rawType": "float64",
         "type": "float"
        }
       ],
       "ref": "db623b65-c232-4965-be77-c0707bf439ca",
       "rows": [
        [
         "U0001",
         "33",
         "10.79",
         "5.44",
         "5.35",
         "6.63",
         "1",
         "9.3",
         "44.7",
         "127",
         "0.7",
         "9.3"
        ],
        [
         "U0002",
         "28",
         "7.4",
         "0.37",
         "7.03",
         "8.05",
         "3",
         "5.7",
         "78.0",
         "74",
         "2.1",
         "56.2"
        ],
        [
         "U0003",
         "35",
         "9.78",
         "1.09",
         "8.69",
         "6.48",
         "1",
         "9.1",
         "51.8",
         "67",
         "8.0",
         "3.6"
        ],
        [
         "U0004",
         "42",
         "11.13",
         "0.56",
         "10.57",
         "6.89",
         "1",
         "10.0",
         "37.0",
         "0",
         "5.7",
         "0.0"
        ],
        [
         "U0005",
         "28",
         "13.22",
         "4.09",
         "9.13",
         "5.79",
         "1",
         "10.0",
         "38.5",
         "143",
         "10.1",
         "0.0"
        ]
       ],
       "shape": {
        "columns": 11,
        "rows": 5
       }
      },
      "text/html": [
       "<div>\n",
       "<style scoped>\n",
       "    .dataframe tbody tr th:only-of-type {\n",
       "        vertical-align: middle;\n",
       "    }\n",
       "\n",
       "    .dataframe tbody tr th {\n",
       "        vertical-align: top;\n",
       "    }\n",
       "\n",
       "    .dataframe thead th {\n",
       "        text-align: right;\n",
       "    }\n",
       "</style>\n",
       "<table border=\"1\" class=\"dataframe\">\n",
       "  <thead>\n",
       "    <tr style=\"text-align: right;\">\n",
       "      <th></th>\n",
       "      <th>age</th>\n",
       "      <th>screen_time_hours</th>\n",
       "      <th>work_screen_hours</th>\n",
       "      <th>leisure_screen_hours</th>\n",
       "      <th>sleep_hours</th>\n",
       "      <th>sleep_quality_1_5</th>\n",
       "      <th>stress_level_0_10</th>\n",
       "      <th>productivity_0_100</th>\n",
       "      <th>exercise_minutes_per_week</th>\n",
       "      <th>social_hours_per_week</th>\n",
       "      <th>mental_wellness_index_0_100</th>\n",
       "    </tr>\n",
       "    <tr>\n",
       "      <th>user_id</th>\n",
       "      <th></th>\n",
       "      <th></th>\n",
       "      <th></th>\n",
       "      <th></th>\n",
       "      <th></th>\n",
       "      <th></th>\n",
       "      <th></th>\n",
       "      <th></th>\n",
       "      <th></th>\n",
       "      <th></th>\n",
       "      <th></th>\n",
       "    </tr>\n",
       "  </thead>\n",
       "  <tbody>\n",
       "    <tr>\n",
       "      <th>U0001</th>\n",
       "      <td>33</td>\n",
       "      <td>10.79</td>\n",
       "      <td>5.44</td>\n",
       "      <td>5.35</td>\n",
       "      <td>6.63</td>\n",
       "      <td>1</td>\n",
       "      <td>9.3</td>\n",
       "      <td>44.7</td>\n",
       "      <td>127</td>\n",
       "      <td>0.7</td>\n",
       "      <td>9.3</td>\n",
       "    </tr>\n",
       "    <tr>\n",
       "      <th>U0002</th>\n",
       "      <td>28</td>\n",
       "      <td>7.40</td>\n",
       "      <td>0.37</td>\n",
       "      <td>7.03</td>\n",
       "      <td>8.05</td>\n",
       "      <td>3</td>\n",
       "      <td>5.7</td>\n",
       "      <td>78.0</td>\n",
       "      <td>74</td>\n",
       "      <td>2.1</td>\n",
       "      <td>56.2</td>\n",
       "    </tr>\n",
       "    <tr>\n",
       "      <th>U0003</th>\n",
       "      <td>35</td>\n",
       "      <td>9.78</td>\n",
       "      <td>1.09</td>\n",
       "      <td>8.69</td>\n",
       "      <td>6.48</td>\n",
       "      <td>1</td>\n",
       "      <td>9.1</td>\n",
       "      <td>51.8</td>\n",
       "      <td>67</td>\n",
       "      <td>8.0</td>\n",
       "      <td>3.6</td>\n",
       "    </tr>\n",
       "    <tr>\n",
       "      <th>U0004</th>\n",
       "      <td>42</td>\n",
       "      <td>11.13</td>\n",
       "      <td>0.56</td>\n",
       "      <td>10.57</td>\n",
       "      <td>6.89</td>\n",
       "      <td>1</td>\n",
       "      <td>10.0</td>\n",
       "      <td>37.0</td>\n",
       "      <td>0</td>\n",
       "      <td>5.7</td>\n",
       "      <td>0.0</td>\n",
       "    </tr>\n",
       "    <tr>\n",
       "      <th>U0005</th>\n",
       "      <td>28</td>\n",
       "      <td>13.22</td>\n",
       "      <td>4.09</td>\n",
       "      <td>9.13</td>\n",
       "      <td>5.79</td>\n",
       "      <td>1</td>\n",
       "      <td>10.0</td>\n",
       "      <td>38.5</td>\n",
       "      <td>143</td>\n",
       "      <td>10.1</td>\n",
       "      <td>0.0</td>\n",
       "    </tr>\n",
       "  </tbody>\n",
       "</table>\n",
       "</div>"
      ],
      "text/plain": [
       "         age  screen_time_hours  work_screen_hours  leisure_screen_hours  \\\n",
       "user_id                                                                    \n",
       "U0001     33              10.79               5.44                  5.35   \n",
       "U0002     28               7.40               0.37                  7.03   \n",
       "U0003     35               9.78               1.09                  8.69   \n",
       "U0004     42              11.13               0.56                 10.57   \n",
       "U0005     28              13.22               4.09                  9.13   \n",
       "\n",
       "         sleep_hours  sleep_quality_1_5  stress_level_0_10  \\\n",
       "user_id                                                      \n",
       "U0001           6.63                  1                9.3   \n",
       "U0002           8.05                  3                5.7   \n",
       "U0003           6.48                  1                9.1   \n",
       "U0004           6.89                  1               10.0   \n",
       "U0005           5.79                  1               10.0   \n",
       "\n",
       "         productivity_0_100  exercise_minutes_per_week  social_hours_per_week  \\\n",
       "user_id                                                                         \n",
       "U0001                  44.7                        127                    0.7   \n",
       "U0002                  78.0                         74                    2.1   \n",
       "U0003                  51.8                         67                    8.0   \n",
       "U0004                  37.0                          0                    5.7   \n",
       "U0005                  38.5                        143                   10.1   \n",
       "\n",
       "         mental_wellness_index_0_100  \n",
       "user_id                               \n",
       "U0001                            9.3  \n",
       "U0002                           56.2  \n",
       "U0003                            3.6  \n",
       "U0004                            0.0  \n",
       "U0005                            0.0  "
      ]
     },
     "execution_count": 17,
     "metadata": {},
     "output_type": "execute_result"
    }
   ],
   "source": [
    "num.head()"
   ]
  },
  {
   "cell_type": "code",
   "execution_count": 18,
   "id": "85a9a10f-2a49-44b7-adf3-da2cd59826db",
   "metadata": {},
   "outputs": [
    {
     "data": {
      "application/vnd.microsoft.datawrangler.viewer.v0+json": {
       "columns": [
        {
         "name": "user_id",
         "rawType": "object",
         "type": "string"
        },
        {
         "name": "gender",
         "rawType": "object",
         "type": "string"
        },
        {
         "name": "occupation",
         "rawType": "object",
         "type": "string"
        },
        {
         "name": "work_mode",
         "rawType": "object",
         "type": "string"
        }
       ],
       "ref": "e1891b7d-fc73-4521-9f50-37719d844934",
       "rows": [
        [
         "U0001",
         "Female",
         "Employed",
         "Remote"
        ],
        [
         "U0002",
         "Female",
         "Employed",
         "In-person"
        ],
        [
         "U0003",
         "Female",
         "Employed",
         "Hybrid"
        ],
        [
         "U0004",
         "Male",
         "Employed",
         "Hybrid"
        ],
        [
         "U0005",
         "Male",
         "Student",
         "Remote"
        ]
       ],
       "shape": {
        "columns": 3,
        "rows": 5
       }
      },
      "text/html": [
       "<div>\n",
       "<style scoped>\n",
       "    .dataframe tbody tr th:only-of-type {\n",
       "        vertical-align: middle;\n",
       "    }\n",
       "\n",
       "    .dataframe tbody tr th {\n",
       "        vertical-align: top;\n",
       "    }\n",
       "\n",
       "    .dataframe thead th {\n",
       "        text-align: right;\n",
       "    }\n",
       "</style>\n",
       "<table border=\"1\" class=\"dataframe\">\n",
       "  <thead>\n",
       "    <tr style=\"text-align: right;\">\n",
       "      <th></th>\n",
       "      <th>gender</th>\n",
       "      <th>occupation</th>\n",
       "      <th>work_mode</th>\n",
       "    </tr>\n",
       "    <tr>\n",
       "      <th>user_id</th>\n",
       "      <th></th>\n",
       "      <th></th>\n",
       "      <th></th>\n",
       "    </tr>\n",
       "  </thead>\n",
       "  <tbody>\n",
       "    <tr>\n",
       "      <th>U0001</th>\n",
       "      <td>Female</td>\n",
       "      <td>Employed</td>\n",
       "      <td>Remote</td>\n",
       "    </tr>\n",
       "    <tr>\n",
       "      <th>U0002</th>\n",
       "      <td>Female</td>\n",
       "      <td>Employed</td>\n",
       "      <td>In-person</td>\n",
       "    </tr>\n",
       "    <tr>\n",
       "      <th>U0003</th>\n",
       "      <td>Female</td>\n",
       "      <td>Employed</td>\n",
       "      <td>Hybrid</td>\n",
       "    </tr>\n",
       "    <tr>\n",
       "      <th>U0004</th>\n",
       "      <td>Male</td>\n",
       "      <td>Employed</td>\n",
       "      <td>Hybrid</td>\n",
       "    </tr>\n",
       "    <tr>\n",
       "      <th>U0005</th>\n",
       "      <td>Male</td>\n",
       "      <td>Student</td>\n",
       "      <td>Remote</td>\n",
       "    </tr>\n",
       "  </tbody>\n",
       "</table>\n",
       "</div>"
      ],
      "text/plain": [
       "         gender occupation  work_mode\n",
       "user_id                              \n",
       "U0001    Female   Employed     Remote\n",
       "U0002    Female   Employed  In-person\n",
       "U0003    Female   Employed     Hybrid\n",
       "U0004      Male   Employed     Hybrid\n",
       "U0005      Male    Student     Remote"
      ]
     },
     "execution_count": 18,
     "metadata": {},
     "output_type": "execute_result"
    }
   ],
   "source": [
    "cat.head()"
   ]
  },
  {
   "cell_type": "code",
   "execution_count": 19,
   "id": "1d92e2d4-8edc-4e15-b908-d93b1d295e50",
   "metadata": {},
   "outputs": [
    {
     "data": {
      "application/vnd.microsoft.datawrangler.viewer.v0+json": {
       "columns": [
        {
         "name": "index",
         "rawType": "object",
         "type": "string"
        },
        {
         "name": "age",
         "rawType": "float64",
         "type": "float"
        },
        {
         "name": "screen_time_hours",
         "rawType": "float64",
         "type": "float"
        },
        {
         "name": "work_screen_hours",
         "rawType": "float64",
         "type": "float"
        },
        {
         "name": "leisure_screen_hours",
         "rawType": "float64",
         "type": "float"
        },
        {
         "name": "sleep_hours",
         "rawType": "float64",
         "type": "float"
        },
        {
         "name": "sleep_quality_1_5",
         "rawType": "float64",
         "type": "float"
        },
        {
         "name": "stress_level_0_10",
         "rawType": "float64",
         "type": "float"
        },
        {
         "name": "productivity_0_100",
         "rawType": "float64",
         "type": "float"
        },
        {
         "name": "exercise_minutes_per_week",
         "rawType": "float64",
         "type": "float"
        },
        {
         "name": "social_hours_per_week",
         "rawType": "float64",
         "type": "float"
        },
        {
         "name": "mental_wellness_index_0_100",
         "rawType": "float64",
         "type": "float"
        }
       ],
       "ref": "5d37a443-f9a3-4313-89f1-b31edf6aab9d",
       "rows": [
        [
         "count",
         "400.0",
         "400.0",
         "400.0",
         "400.0",
         "400.0",
         "400.0",
         "400.0",
         "400.0",
         "400.0",
         "400.0",
         "400.0"
        ],
        [
         "mean",
         "29.7775",
         "9.0249",
         "2.183075",
         "6.841825",
         "7.013175",
         "1.3975",
         "8.1505",
         "54.30650000000001",
         "109.81",
         "7.905",
         "20.32675"
        ],
        [
         "std",
         "7.466079936891926",
         "2.4910583934945203",
         "1.931320738215082",
         "2.220895847465212",
         "0.8524208012660635",
         "0.6523477938264799",
         "2.0948438310985686",
         "15.020053687718791",
         "70.00704511629374",
         "4.909631983717196",
         "20.376793017344"
        ],
        [
         "min",
         "16.0",
         "1.0",
         "0.11",
         "0.89",
         "4.64",
         "1.0",
         "0.0",
         "20.6",
         "0.0",
         "0.0",
         "0.0"
        ],
        [
         "25%",
         "24.0",
         "7.3725",
         "0.695",
         "5.46",
         "6.3975",
         "1.0",
         "6.9",
         "43.6",
         "58.0",
         "4.574999999999999",
         "3.6750000000000003"
        ],
        [
         "50%",
         "30.0",
         "9.09",
         "1.455",
         "6.7",
         "7.03",
         "1.0",
         "8.8",
         "51.75",
         "103.0",
         "7.75",
         "14.8"
        ],
        [
         "75%",
         "35.0",
         "10.495000000000001",
         "3.0124999999999997",
         "8.4175",
         "7.64",
         "2.0",
         "10.0",
         "63.0",
         "157.0",
         "11.025",
         "30.650000000000002"
        ],
        [
         "max",
         "60.0",
         "19.17",
         "12.04",
         "13.35",
         "9.74",
         "4.0",
         "10.0",
         "100.0",
         "372.0",
         "23.9",
         "97.0"
        ]
       ],
       "shape": {
        "columns": 11,
        "rows": 8
       }
      },
      "text/html": [
       "<div>\n",
       "<style scoped>\n",
       "    .dataframe tbody tr th:only-of-type {\n",
       "        vertical-align: middle;\n",
       "    }\n",
       "\n",
       "    .dataframe tbody tr th {\n",
       "        vertical-align: top;\n",
       "    }\n",
       "\n",
       "    .dataframe thead th {\n",
       "        text-align: right;\n",
       "    }\n",
       "</style>\n",
       "<table border=\"1\" class=\"dataframe\">\n",
       "  <thead>\n",
       "    <tr style=\"text-align: right;\">\n",
       "      <th></th>\n",
       "      <th>age</th>\n",
       "      <th>screen_time_hours</th>\n",
       "      <th>work_screen_hours</th>\n",
       "      <th>leisure_screen_hours</th>\n",
       "      <th>sleep_hours</th>\n",
       "      <th>sleep_quality_1_5</th>\n",
       "      <th>stress_level_0_10</th>\n",
       "      <th>productivity_0_100</th>\n",
       "      <th>exercise_minutes_per_week</th>\n",
       "      <th>social_hours_per_week</th>\n",
       "      <th>mental_wellness_index_0_100</th>\n",
       "    </tr>\n",
       "  </thead>\n",
       "  <tbody>\n",
       "    <tr>\n",
       "      <th>count</th>\n",
       "      <td>400.00000</td>\n",
       "      <td>400.000000</td>\n",
       "      <td>400.000000</td>\n",
       "      <td>400.000000</td>\n",
       "      <td>400.000000</td>\n",
       "      <td>400.000000</td>\n",
       "      <td>400.000000</td>\n",
       "      <td>400.000000</td>\n",
       "      <td>400.000000</td>\n",
       "      <td>400.000000</td>\n",
       "      <td>400.000000</td>\n",
       "    </tr>\n",
       "    <tr>\n",
       "      <th>mean</th>\n",
       "      <td>29.77750</td>\n",
       "      <td>9.024900</td>\n",
       "      <td>2.183075</td>\n",
       "      <td>6.841825</td>\n",
       "      <td>7.013175</td>\n",
       "      <td>1.397500</td>\n",
       "      <td>8.150500</td>\n",
       "      <td>54.306500</td>\n",
       "      <td>109.810000</td>\n",
       "      <td>7.905000</td>\n",
       "      <td>20.326750</td>\n",
       "    </tr>\n",
       "    <tr>\n",
       "      <th>std</th>\n",
       "      <td>7.46608</td>\n",
       "      <td>2.491058</td>\n",
       "      <td>1.931321</td>\n",
       "      <td>2.220896</td>\n",
       "      <td>0.852421</td>\n",
       "      <td>0.652348</td>\n",
       "      <td>2.094844</td>\n",
       "      <td>15.020054</td>\n",
       "      <td>70.007045</td>\n",
       "      <td>4.909632</td>\n",
       "      <td>20.376793</td>\n",
       "    </tr>\n",
       "    <tr>\n",
       "      <th>min</th>\n",
       "      <td>16.00000</td>\n",
       "      <td>1.000000</td>\n",
       "      <td>0.110000</td>\n",
       "      <td>0.890000</td>\n",
       "      <td>4.640000</td>\n",
       "      <td>1.000000</td>\n",
       "      <td>0.000000</td>\n",
       "      <td>20.600000</td>\n",
       "      <td>0.000000</td>\n",
       "      <td>0.000000</td>\n",
       "      <td>0.000000</td>\n",
       "    </tr>\n",
       "    <tr>\n",
       "      <th>25%</th>\n",
       "      <td>24.00000</td>\n",
       "      <td>7.372500</td>\n",
       "      <td>0.695000</td>\n",
       "      <td>5.460000</td>\n",
       "      <td>6.397500</td>\n",
       "      <td>1.000000</td>\n",
       "      <td>6.900000</td>\n",
       "      <td>43.600000</td>\n",
       "      <td>58.000000</td>\n",
       "      <td>4.575000</td>\n",
       "      <td>3.675000</td>\n",
       "    </tr>\n",
       "    <tr>\n",
       "      <th>50%</th>\n",
       "      <td>30.00000</td>\n",
       "      <td>9.090000</td>\n",
       "      <td>1.455000</td>\n",
       "      <td>6.700000</td>\n",
       "      <td>7.030000</td>\n",
       "      <td>1.000000</td>\n",
       "      <td>8.800000</td>\n",
       "      <td>51.750000</td>\n",
       "      <td>103.000000</td>\n",
       "      <td>7.750000</td>\n",
       "      <td>14.800000</td>\n",
       "    </tr>\n",
       "    <tr>\n",
       "      <th>75%</th>\n",
       "      <td>35.00000</td>\n",
       "      <td>10.495000</td>\n",
       "      <td>3.012500</td>\n",
       "      <td>8.417500</td>\n",
       "      <td>7.640000</td>\n",
       "      <td>2.000000</td>\n",
       "      <td>10.000000</td>\n",
       "      <td>63.000000</td>\n",
       "      <td>157.000000</td>\n",
       "      <td>11.025000</td>\n",
       "      <td>30.650000</td>\n",
       "    </tr>\n",
       "    <tr>\n",
       "      <th>max</th>\n",
       "      <td>60.00000</td>\n",
       "      <td>19.170000</td>\n",
       "      <td>12.040000</td>\n",
       "      <td>13.350000</td>\n",
       "      <td>9.740000</td>\n",
       "      <td>4.000000</td>\n",
       "      <td>10.000000</td>\n",
       "      <td>100.000000</td>\n",
       "      <td>372.000000</td>\n",
       "      <td>23.900000</td>\n",
       "      <td>97.000000</td>\n",
       "    </tr>\n",
       "  </tbody>\n",
       "</table>\n",
       "</div>"
      ],
      "text/plain": [
       "             age  screen_time_hours  work_screen_hours  leisure_screen_hours  \\\n",
       "count  400.00000         400.000000         400.000000            400.000000   \n",
       "mean    29.77750           9.024900           2.183075              6.841825   \n",
       "std      7.46608           2.491058           1.931321              2.220896   \n",
       "min     16.00000           1.000000           0.110000              0.890000   \n",
       "25%     24.00000           7.372500           0.695000              5.460000   \n",
       "50%     30.00000           9.090000           1.455000              6.700000   \n",
       "75%     35.00000          10.495000           3.012500              8.417500   \n",
       "max     60.00000          19.170000          12.040000             13.350000   \n",
       "\n",
       "       sleep_hours  sleep_quality_1_5  stress_level_0_10  productivity_0_100  \\\n",
       "count   400.000000         400.000000         400.000000          400.000000   \n",
       "mean      7.013175           1.397500           8.150500           54.306500   \n",
       "std       0.852421           0.652348           2.094844           15.020054   \n",
       "min       4.640000           1.000000           0.000000           20.600000   \n",
       "25%       6.397500           1.000000           6.900000           43.600000   \n",
       "50%       7.030000           1.000000           8.800000           51.750000   \n",
       "75%       7.640000           2.000000          10.000000           63.000000   \n",
       "max       9.740000           4.000000          10.000000          100.000000   \n",
       "\n",
       "       exercise_minutes_per_week  social_hours_per_week  \\\n",
       "count                 400.000000             400.000000   \n",
       "mean                  109.810000               7.905000   \n",
       "std                    70.007045               4.909632   \n",
       "min                     0.000000               0.000000   \n",
       "25%                    58.000000               4.575000   \n",
       "50%                   103.000000               7.750000   \n",
       "75%                   157.000000              11.025000   \n",
       "max                   372.000000              23.900000   \n",
       "\n",
       "       mental_wellness_index_0_100  \n",
       "count                   400.000000  \n",
       "mean                     20.326750  \n",
       "std                      20.376793  \n",
       "min                       0.000000  \n",
       "25%                       3.675000  \n",
       "50%                      14.800000  \n",
       "75%                      30.650000  \n",
       "max                      97.000000  "
      ]
     },
     "execution_count": 19,
     "metadata": {},
     "output_type": "execute_result"
    }
   ],
   "source": [
    "num.describe()"
   ]
  },
  {
   "cell_type": "code",
   "execution_count": 20,
   "id": "077e86ee-f848-4009-8537-88b341fd729e",
   "metadata": {},
   "outputs": [],
   "source": [
    "relevant_columns =[\"screen_time_hours\",\"sleep_hours\",\"sleep_quality_1_5\",\"productivity_0_100\",\"mental_wellness_index_0_100\"]"
   ]
  },
  {
   "cell_type": "code",
   "execution_count": 21,
   "id": "837577a1-f87a-41e7-945f-026842da9b86",
   "metadata": {},
   "outputs": [
    {
     "data": {
      "application/vnd.microsoft.datawrangler.viewer.v0+json": {
       "columns": [
        {
         "name": "user_id",
         "rawType": "object",
         "type": "string"
        },
        {
         "name": "screen_time_hours",
         "rawType": "float64",
         "type": "float"
        },
        {
         "name": "sleep_hours",
         "rawType": "float64",
         "type": "float"
        },
        {
         "name": "sleep_quality_1_5",
         "rawType": "int64",
         "type": "integer"
        },
        {
         "name": "productivity_0_100",
         "rawType": "float64",
         "type": "float"
        },
        {
         "name": "mental_wellness_index_0_100",
         "rawType": "float64",
         "type": "float"
        }
       ],
       "ref": "f0f45645-1308-4880-8d6f-53eb2147d72e",
       "rows": [
        [
         "U0001",
         "10.79",
         "6.63",
         "1",
         "44.7",
         "9.3"
        ],
        [
         "U0002",
         "7.4",
         "8.05",
         "3",
         "78.0",
         "56.2"
        ],
        [
         "U0003",
         "9.78",
         "6.48",
         "1",
         "51.8",
         "3.6"
        ],
        [
         "U0004",
         "11.13",
         "6.89",
         "1",
         "37.0",
         "0.0"
        ],
        [
         "U0005",
         "13.22",
         "5.79",
         "1",
         "38.5",
         "0.0"
        ],
        [
         "U0006",
         "9.83",
         "7.19",
         "1",
         "44.0",
         "5.0"
        ],
        [
         "U0007",
         "6.02",
         "7.44",
         "2",
         "64.8",
         "43.7"
        ],
        [
         "U0008",
         "6.21",
         "6.78",
         "2",
         "87.0",
         "54.3"
        ],
        [
         "U0009",
         "6.28",
         "8.48",
         "4",
         "91.7",
         "86.8"
        ],
        [
         "U0010",
         "9.37",
         "7.78",
         "2",
         "42.2",
         "10.7"
        ],
        [
         "U0011",
         "9.87",
         "6.4",
         "1",
         "55.9",
         "21.8"
        ],
        [
         "U0012",
         "4.96",
         "8.01",
         "3",
         "88.4",
         "74.3"
        ],
        [
         "U0013",
         "12.55",
         "6.96",
         "1",
         "33.0",
         "0.0"
        ],
        [
         "U0014",
         "7.86",
         "7.59",
         "2",
         "70.7",
         "40.9"
        ],
        [
         "U0015",
         "9.07",
         "5.54",
         "1",
         "53.2",
         "10.7"
        ],
        [
         "U0016",
         "13.49",
         "7.13",
         "1",
         "37.6",
         "0.0"
        ],
        [
         "U0017",
         "8.86",
         "6.53",
         "1",
         "60.3",
         "10.5"
        ],
        [
         "U0018",
         "7.13",
         "7.06",
         "1",
         "49.0",
         "29.5"
        ],
        [
         "U0019",
         "8.18",
         "9.2",
         "3",
         "85.1",
         "68.9"
        ],
        [
         "U0020",
         "10.26",
         "6.98",
         "1",
         "52.0",
         "10.8"
        ],
        [
         "U0021",
         "10.14",
         "6.68",
         "1",
         "48.1",
         "0.0"
        ],
        [
         "U0022",
         "7.52",
         "5.49",
         "1",
         "53.1",
         "18.2"
        ],
        [
         "U0023",
         "7.67",
         "8.36",
         "3",
         "76.4",
         "53.5"
        ],
        [
         "U0024",
         "5.74",
         "6.34",
         "1",
         "77.3",
         "48.7"
        ],
        [
         "U0025",
         "8.93",
         "6.21",
         "1",
         "50.3",
         "0.7"
        ],
        [
         "U0026",
         "7.05",
         "7.08",
         "1",
         "51.0",
         "1.8"
        ],
        [
         "U0027",
         "11.3",
         "7.74",
         "2",
         "53.3",
         "4.6"
        ],
        [
         "U0028",
         "6.61",
         "8.06",
         "2",
         "60.0",
         "42.8"
        ],
        [
         "U0029",
         "7.43",
         "7.11",
         "2",
         "61.1",
         "28.9"
        ],
        [
         "U0030",
         "9.57",
         "7.18",
         "1",
         "38.0",
         "0.9"
        ],
        [
         "U0031",
         "6.37",
         "6.91",
         "1",
         "52.1",
         "11.1"
        ],
        [
         "U0032",
         "14.35",
         "6.5",
         "1",
         "42.6",
         "0.0"
        ],
        [
         "U0033",
         "6.89",
         "7.42",
         "1",
         "60.3",
         "17.2"
        ],
        [
         "U0034",
         "11.38",
         "7.38",
         "1",
         "57.0",
         "2.4"
        ],
        [
         "U0035",
         "13.05",
         "7.28",
         "1",
         "39.6",
         "0.0"
        ],
        [
         "U0036",
         "7.47",
         "7.57",
         "1",
         "53.6",
         "14.8"
        ],
        [
         "U0037",
         "9.93",
         "6.63",
         "1",
         "45.7",
         "2.2"
        ],
        [
         "U0038",
         "8.08",
         "7.64",
         "3",
         "68.1",
         "57.6"
        ],
        [
         "U0039",
         "7.88",
         "7.03",
         "1",
         "49.8",
         "17.7"
        ],
        [
         "U0040",
         "8.81",
         "6.22",
         "1",
         "51.6",
         "12.5"
        ],
        [
         "U0041",
         "5.65",
         "7.28",
         "2",
         "67.4",
         "35.2"
        ],
        [
         "U0042",
         "9.31",
         "7.08",
         "2",
         "51.7",
         "30.4"
        ],
        [
         "U0043",
         "7.72",
         "7.96",
         "3",
         "77.7",
         "62.2"
        ],
        [
         "U0044",
         "11.81",
         "6.45",
         "1",
         "37.6",
         "0.0"
        ],
        [
         "U0045",
         "6.71",
         "6.31",
         "1",
         "58.8",
         "23.3"
        ],
        [
         "U0046",
         "6.1",
         "7.47",
         "1",
         "79.6",
         "53.0"
        ],
        [
         "U0047",
         "7.46",
         "7.33",
         "2",
         "49.2",
         "23.7"
        ],
        [
         "U0048",
         "14.22",
         "6.5",
         "1",
         "34.8",
         "0.0"
        ],
        [
         "U0049",
         "9.93",
         "7.67",
         "2",
         "52.8",
         "18.5"
        ],
        [
         "U0050",
         "13.29",
         "7.08",
         "1",
         "27.1",
         "0.0"
        ]
       ],
       "shape": {
        "columns": 5,
        "rows": 400
       }
      },
      "text/html": [
       "<div>\n",
       "<style scoped>\n",
       "    .dataframe tbody tr th:only-of-type {\n",
       "        vertical-align: middle;\n",
       "    }\n",
       "\n",
       "    .dataframe tbody tr th {\n",
       "        vertical-align: top;\n",
       "    }\n",
       "\n",
       "    .dataframe thead th {\n",
       "        text-align: right;\n",
       "    }\n",
       "</style>\n",
       "<table border=\"1\" class=\"dataframe\">\n",
       "  <thead>\n",
       "    <tr style=\"text-align: right;\">\n",
       "      <th></th>\n",
       "      <th>screen_time_hours</th>\n",
       "      <th>sleep_hours</th>\n",
       "      <th>sleep_quality_1_5</th>\n",
       "      <th>productivity_0_100</th>\n",
       "      <th>mental_wellness_index_0_100</th>\n",
       "    </tr>\n",
       "    <tr>\n",
       "      <th>user_id</th>\n",
       "      <th></th>\n",
       "      <th></th>\n",
       "      <th></th>\n",
       "      <th></th>\n",
       "      <th></th>\n",
       "    </tr>\n",
       "  </thead>\n",
       "  <tbody>\n",
       "    <tr>\n",
       "      <th>U0001</th>\n",
       "      <td>10.79</td>\n",
       "      <td>6.63</td>\n",
       "      <td>1</td>\n",
       "      <td>44.7</td>\n",
       "      <td>9.3</td>\n",
       "    </tr>\n",
       "    <tr>\n",
       "      <th>U0002</th>\n",
       "      <td>7.40</td>\n",
       "      <td>8.05</td>\n",
       "      <td>3</td>\n",
       "      <td>78.0</td>\n",
       "      <td>56.2</td>\n",
       "    </tr>\n",
       "    <tr>\n",
       "      <th>U0003</th>\n",
       "      <td>9.78</td>\n",
       "      <td>6.48</td>\n",
       "      <td>1</td>\n",
       "      <td>51.8</td>\n",
       "      <td>3.6</td>\n",
       "    </tr>\n",
       "    <tr>\n",
       "      <th>U0004</th>\n",
       "      <td>11.13</td>\n",
       "      <td>6.89</td>\n",
       "      <td>1</td>\n",
       "      <td>37.0</td>\n",
       "      <td>0.0</td>\n",
       "    </tr>\n",
       "    <tr>\n",
       "      <th>U0005</th>\n",
       "      <td>13.22</td>\n",
       "      <td>5.79</td>\n",
       "      <td>1</td>\n",
       "      <td>38.5</td>\n",
       "      <td>0.0</td>\n",
       "    </tr>\n",
       "    <tr>\n",
       "      <th>...</th>\n",
       "      <td>...</td>\n",
       "      <td>...</td>\n",
       "      <td>...</td>\n",
       "      <td>...</td>\n",
       "      <td>...</td>\n",
       "    </tr>\n",
       "    <tr>\n",
       "      <th>U0396</th>\n",
       "      <td>6.43</td>\n",
       "      <td>7.75</td>\n",
       "      <td>1</td>\n",
       "      <td>64.6</td>\n",
       "      <td>39.3</td>\n",
       "    </tr>\n",
       "    <tr>\n",
       "      <th>U0397</th>\n",
       "      <td>9.59</td>\n",
       "      <td>5.57</td>\n",
       "      <td>1</td>\n",
       "      <td>47.4</td>\n",
       "      <td>3.5</td>\n",
       "    </tr>\n",
       "    <tr>\n",
       "      <th>U0398</th>\n",
       "      <td>8.72</td>\n",
       "      <td>7.56</td>\n",
       "      <td>1</td>\n",
       "      <td>57.3</td>\n",
       "      <td>6.6</td>\n",
       "    </tr>\n",
       "    <tr>\n",
       "      <th>U0399</th>\n",
       "      <td>5.04</td>\n",
       "      <td>7.32</td>\n",
       "      <td>1</td>\n",
       "      <td>63.6</td>\n",
       "      <td>21.0</td>\n",
       "    </tr>\n",
       "    <tr>\n",
       "      <th>U0400</th>\n",
       "      <td>8.86</td>\n",
       "      <td>6.55</td>\n",
       "      <td>1</td>\n",
       "      <td>41.4</td>\n",
       "      <td>8.4</td>\n",
       "    </tr>\n",
       "  </tbody>\n",
       "</table>\n",
       "<p>400 rows × 5 columns</p>\n",
       "</div>"
      ],
      "text/plain": [
       "         screen_time_hours  sleep_hours  sleep_quality_1_5  \\\n",
       "user_id                                                      \n",
       "U0001                10.79         6.63                  1   \n",
       "U0002                 7.40         8.05                  3   \n",
       "U0003                 9.78         6.48                  1   \n",
       "U0004                11.13         6.89                  1   \n",
       "U0005                13.22         5.79                  1   \n",
       "...                    ...          ...                ...   \n",
       "U0396                 6.43         7.75                  1   \n",
       "U0397                 9.59         5.57                  1   \n",
       "U0398                 8.72         7.56                  1   \n",
       "U0399                 5.04         7.32                  1   \n",
       "U0400                 8.86         6.55                  1   \n",
       "\n",
       "         productivity_0_100  mental_wellness_index_0_100  \n",
       "user_id                                                   \n",
       "U0001                  44.7                          9.3  \n",
       "U0002                  78.0                         56.2  \n",
       "U0003                  51.8                          3.6  \n",
       "U0004                  37.0                          0.0  \n",
       "U0005                  38.5                          0.0  \n",
       "...                     ...                          ...  \n",
       "U0396                  64.6                         39.3  \n",
       "U0397                  47.4                          3.5  \n",
       "U0398                  57.3                          6.6  \n",
       "U0399                  63.6                         21.0  \n",
       "U0400                  41.4                          8.4  \n",
       "\n",
       "[400 rows x 5 columns]"
      ]
     },
     "execution_count": 21,
     "metadata": {},
     "output_type": "execute_result"
    }
   ],
   "source": [
    "df[relevant_columns]"
   ]
  },
  {
   "cell_type": "code",
   "execution_count": 22,
   "id": "b443ba7e-d86f-46e5-9a95-f37dc0520490",
   "metadata": {},
   "outputs": [
    {
     "data": {
      "image/png": "[encoded data removed]",
      "text/plain": [
       "<Figure size 640x480 with 1 Axes>"
      ]
     },
     "metadata": {},
     "output_type": "display_data"
    },
    {
     "data": {
      "image/png": "[encoded data removed]",
      "text/plain": [
       "<Figure size 640x480 with 1 Axes>"
      ]
     },
     "metadata": {},
     "output_type": "display_data"
    },
    {
     "data": {
      "image/png": "[encoded data removed]",
      "text/plain": [
       "<Figure size 640x480 with 1 Axes>"
      ]
     },
     "metadata": {},
     "output_type": "display_data"
    },
    {
     "data": {
      "image/png": "[encoded data removed]",
      "text/plain": [
       "<Figure size 640x480 with 1 Axes>"
      ]
     },
     "metadata": {},
     "output_type": "display_data"
    },
    {
     "data": {
      "image/png": "[encoded data removed]",
      "text/plain": [
       "<Figure size 640x480 with 1 Axes>"
      ]
     },
     "metadata": {},
     "output_type": "display_data"
    }
   ],
   "source": [
    "for col in relevant_columns:\n",
    "    sns.histplot(num[col])\n",
    "    plt.show()"
   ]
  },
  {
   "cell_type": "code",
   "execution_count": 23,
   "id": "0e0838d0-ba57-4a13-b320-f8c43b9c41f5",
   "metadata": {},
   "outputs": [
    {
     "data": {
      "image/png": "[encoded data removed]",
      "text/plain": [
       "<Figure size 640x480 with 1 Axes>"
      ]
     },
     "metadata": {},
     "output_type": "display_data"
    },
    {
     "data": {
      "image/png": "[encoded data removed]",
      "text/plain": [
       "<Figure size 640x480 with 1 Axes>"
      ]
     },
     "metadata": {},
     "output_type": "display_data"
    },
    {
     "data": {
      "image/png": "[encoded data removed]",
      "text/plain": [
       "<Figure size 640x480 with 1 Axes>"
      ]
     },
     "metadata": {},
     "output_type": "display_data"
    },
    {
     "data": {
      "image/png": "[encoded data removed]",
      "text/plain": [
       "<Figure size 640x480 with 1 Axes>"
      ]
     },
     "metadata": {},
     "output_type": "display_data"
    },
    {
     "data": {
      "image/png": "[encoded data removed]",
      "text/plain": [
       "<Figure size 640x480 with 1 Axes>"
      ]
     },
     "metadata": {},
     "output_type": "display_data"
    }
   ],
   "source": [
    "for col in relevant_columns:\n",
    "    sns.boxplot(data=num, x=col)\n",
    "    plt.show()"
   ]
  },
  {
   "cell_type": "code",
   "execution_count": 24,
   "id": "104cdf12-fb76-4ab6-91af-6e76d1a3f683",
   "metadata": {},
   "outputs": [
    {
     "data": {
      "application/vnd.microsoft.datawrangler.viewer.v0+json": {
       "columns": [
        {
         "name": "user_id",
         "rawType": "object",
         "type": "string"
        },
        {
         "name": "gender",
         "rawType": "object",
         "type": "string"
        },
        {
         "name": "occupation",
         "rawType": "object",
         "type": "string"
        },
        {
         "name": "work_mode",
         "rawType": "object",
         "type": "string"
        }
       ],
       "ref": "ee268cae-1025-4c47-b955-e30548ee4736",
       "rows": [
        [
         "U0001",
         "Female",
         "Employed",
         "Remote"
        ],
        [
         "U0002",
         "Female",
         "Employed",
         "In-person"
        ],
        [
         "U0003",
         "Female",
         "Employed",
         "Hybrid"
        ],
        [
         "U0004",
         "Male",
         "Employed",
         "Hybrid"
        ],
        [
         "U0005",
         "Male",
         "Student",
         "Remote"
        ]
       ],
       "shape": {
        "columns": 3,
        "rows": 5
       }
      },
      "text/html": [
       "<div>\n",
       "<style scoped>\n",
       "    .dataframe tbody tr th:only-of-type {\n",
       "        vertical-align: middle;\n",
       "    }\n",
       "\n",
       "    .dataframe tbody tr th {\n",
       "        vertical-align: top;\n",
       "    }\n",
       "\n",
       "    .dataframe thead th {\n",
       "        text-align: right;\n",
       "    }\n",
       "</style>\n",
       "<table border=\"1\" class=\"dataframe\">\n",
       "  <thead>\n",
       "    <tr style=\"text-align: right;\">\n",
       "      <th></th>\n",
       "      <th>gender</th>\n",
       "      <th>occupation</th>\n",
       "      <th>work_mode</th>\n",
       "    </tr>\n",
       "    <tr>\n",
       "      <th>user_id</th>\n",
       "      <th></th>\n",
       "      <th></th>\n",
       "      <th></th>\n",
       "    </tr>\n",
       "  </thead>\n",
       "  <tbody>\n",
       "    <tr>\n",
       "      <th>U0001</th>\n",
       "      <td>Female</td>\n",
       "      <td>Employed</td>\n",
       "      <td>Remote</td>\n",
       "    </tr>\n",
       "    <tr>\n",
       "      <th>U0002</th>\n",
       "      <td>Female</td>\n",
       "      <td>Employed</td>\n",
       "      <td>In-person</td>\n",
       "    </tr>\n",
       "    <tr>\n",
       "      <th>U0003</th>\n",
       "      <td>Female</td>\n",
       "      <td>Employed</td>\n",
       "      <td>Hybrid</td>\n",
       "    </tr>\n",
       "    <tr>\n",
       "      <th>U0004</th>\n",
       "      <td>Male</td>\n",
       "      <td>Employed</td>\n",
       "      <td>Hybrid</td>\n",
       "    </tr>\n",
       "    <tr>\n",
       "      <th>U0005</th>\n",
       "      <td>Male</td>\n",
       "      <td>Student</td>\n",
       "      <td>Remote</td>\n",
       "    </tr>\n",
       "  </tbody>\n",
       "</table>\n",
       "</div>"
      ],
      "text/plain": [
       "         gender occupation  work_mode\n",
       "user_id                              \n",
       "U0001    Female   Employed     Remote\n",
       "U0002    Female   Employed  In-person\n",
       "U0003    Female   Employed     Hybrid\n",
       "U0004      Male   Employed     Hybrid\n",
       "U0005      Male    Student     Remote"
      ]
     },
     "execution_count": 24,
     "metadata": {},
     "output_type": "execute_result"
    }
   ],
   "source": [
    "cat.head()"
   ]
  },
  {
   "cell_type": "code",
   "execution_count": 25,
   "id": "2919e927-2f65-4650-9d8c-698adb9beefe",
   "metadata": {},
   "outputs": [
    {
     "data": {
      "application/vnd.microsoft.datawrangler.viewer.v0+json": {
       "columns": [
        {
         "name": "gender",
         "rawType": "object",
         "type": "string"
        },
        {
         "name": "count",
         "rawType": "int64",
         "type": "integer"
        }
       ],
       "ref": "a725bc96-8fda-4130-9138-752af576375c",
       "rows": [
        [
         "Female",
         "222"
        ],
        [
         "Male",
         "170"
        ],
        [
         "Non-binary/Other",
         "8"
        ]
       ],
       "shape": {
        "columns": 1,
        "rows": 3
       }
      },
      "text/plain": [
       "gender\n",
       "Female              222\n",
       "Male                170\n",
       "Non-binary/Other      8\n",
       "Name: count, dtype: int64"
      ]
     },
     "execution_count": 25,
     "metadata": {},
     "output_type": "execute_result"
    }
   ],
   "source": [
    "count_gender = cat[\"gender\"].value_counts()\n",
    "count_gender"
   ]
  },
  {
   "cell_type": "code",
   "execution_count": 26,
   "id": "a15f2be2-a148-405c-8b02-1c92d520906b",
   "metadata": {},
   "outputs": [
    {
     "data": {
      "image/png": "[encoded data removed]",
      "text/plain": [
       "<Figure size 640x480 with 1 Axes>"
      ]
     },
     "metadata": {},
     "output_type": "display_data"
    }
   ],
   "source": [
    "cat[\"gender\"].value_counts().plot.pie(autopct=\"%.1f%%\")\n",
    "plt.show()"
   ]
  },
  {
   "cell_type": "code",
   "execution_count": 27,
   "id": "78b7e07a-211f-44ec-b72c-0c13b80b089d",
   "metadata": {},
   "outputs": [
    {
     "data": {
      "application/vnd.microsoft.datawrangler.viewer.v0+json": {
       "columns": [
        {
         "name": "occupation",
         "rawType": "object",
         "type": "string"
        },
        {
         "name": "count",
         "rawType": "int64",
         "type": "integer"
        }
       ],
       "ref": "1301c203-b25a-4905-b216-7e903b0c66d8",
       "rows": [
        [
         "Employed",
         "207"
        ],
        [
         "Student",
         "107"
        ],
        [
         "Self-employed",
         "45"
        ],
        [
         "Unemployed",
         "27"
        ],
        [
         "Retired",
         "14"
        ]
       ],
       "shape": {
        "columns": 1,
        "rows": 5
       }
      },
      "text/plain": [
       "occupation\n",
       "Employed         207\n",
       "Student          107\n",
       "Self-employed     45\n",
       "Unemployed        27\n",
       "Retired           14\n",
       "Name: count, dtype: int64"
      ]
     },
     "execution_count": 27,
     "metadata": {},
     "output_type": "execute_result"
    }
   ],
   "source": [
    "count_occ = cat[\"occupation\"].value_counts()\n",
    "count_occ"
   ]
  },
  {
   "cell_type": "code",
   "execution_count": 28,
   "id": "9671b2ff-448b-4825-9d81-5b4420201667",
   "metadata": {},
   "outputs": [
    {
     "data": {
      "image/png": "[encoded data removed]",
      "text/plain": [
       "<Figure size 640x480 with 1 Axes>"
      ]
     },
     "metadata": {},
     "output_type": "display_data"
    }
   ],
   "source": [
    "cat[\"occupation\"].value_counts().plot.pie(autopct=\"%.1f%%\")\n",
    "plt.show()"
   ]
  },
  {
   "cell_type": "code",
   "execution_count": 29,
   "id": "d92e0d1b-482f-4dfb-a8b6-58120d86c3ba",
   "metadata": {},
   "outputs": [
    {
     "data": {
      "application/vnd.microsoft.datawrangler.viewer.v0+json": {
       "columns": [
        {
         "name": "work_mode",
         "rawType": "object",
         "type": "string"
        },
        {
         "name": "count",
         "rawType": "int64",
         "type": "integer"
        }
       ],
       "ref": "75f76595-a6ee-4c84-92b0-7e1ced68e03e",
       "rows": [
        [
         "Remote",
         "150"
        ],
        [
         "Hybrid",
         "146"
        ],
        [
         "In-person",
         "104"
        ]
       ],
       "shape": {
        "columns": 1,
        "rows": 3
       }
      },
      "text/plain": [
       "work_mode\n",
       "Remote       150\n",
       "Hybrid       146\n",
       "In-person    104\n",
       "Name: count, dtype: int64"
      ]
     },
     "execution_count": 29,
     "metadata": {},
     "output_type": "execute_result"
    }
   ],
   "source": [
    "count_work = cat[\"work_mode\"].value_counts()\n",
    "count_work"
   ]
  },
  {
   "cell_type": "code",
   "execution_count": 30,
   "id": "2b24f850-30e0-4856-85d6-3e1e538c686c",
   "metadata": {},
   "outputs": [
    {
     "data": {
      "image/png": "[encoded data removed]",
      "text/plain": [
       "<Figure size 640x480 with 1 Axes>"
      ]
     },
     "metadata": {},
     "output_type": "display_data"
    }
   ],
   "source": [
    "cat[\"work_mode\"].value_counts().plot.pie(autopct=\"%.1f%%\")\n",
    "plt.show()"
   ]
  },
  {
   "cell_type": "code",
   "execution_count": 31,
   "id": "dae2648c-e149-4ac5-895c-a2beb437b3e7",
   "metadata": {},
   "outputs": [
    {
     "data": {
      "application/vnd.microsoft.datawrangler.viewer.v0+json": {
       "columns": [
        {
         "name": "index",
         "rawType": "object",
         "type": "string"
        },
        {
         "name": "leisure_screen_hours",
         "rawType": "float64",
         "type": "float"
        },
        {
         "name": "work_screen_hours",
         "rawType": "float64",
         "type": "float"
        },
        {
         "name": "productivity_0_100",
         "rawType": "float64",
         "type": "float"
        }
       ],
       "ref": "7abea219-1327-4592-b0c9-6fa673105df8",
       "rows": [
        [
         "leisure_screen_hours",
         "1.0",
         "-0.28641362085306615",
         "-0.500557689961557"
        ],
        [
         "work_screen_hours",
         "-0.28641362085306615",
         "1.0",
         "-0.33569742994485524"
        ],
        [
         "productivity_0_100",
         "-0.500557689961557",
         "-0.33569742994485524",
         "1.0"
        ]
       ],
       "shape": {
        "columns": 3,
        "rows": 3
       }
      },
      "text/html": [
       "<div>\n",
       "<style scoped>\n",
       "    .dataframe tbody tr th:only-of-type {\n",
       "        vertical-align: middle;\n",
       "    }\n",
       "\n",
       "    .dataframe tbody tr th {\n",
       "        vertical-align: top;\n",
       "    }\n",
       "\n",
       "    .dataframe thead th {\n",
       "        text-align: right;\n",
       "    }\n",
       "</style>\n",
       "<table border=\"1\" class=\"dataframe\">\n",
       "  <thead>\n",
       "    <tr style=\"text-align: right;\">\n",
       "      <th></th>\n",
       "      <th>leisure_screen_hours</th>\n",
       "      <th>work_screen_hours</th>\n",
       "      <th>productivity_0_100</th>\n",
       "    </tr>\n",
       "  </thead>\n",
       "  <tbody>\n",
       "    <tr>\n",
       "      <th>leisure_screen_hours</th>\n",
       "      <td>1.000000</td>\n",
       "      <td>-0.286414</td>\n",
       "      <td>-0.500558</td>\n",
       "    </tr>\n",
       "    <tr>\n",
       "      <th>work_screen_hours</th>\n",
       "      <td>-0.286414</td>\n",
       "      <td>1.000000</td>\n",
       "      <td>-0.335697</td>\n",
       "    </tr>\n",
       "    <tr>\n",
       "      <th>productivity_0_100</th>\n",
       "      <td>-0.500558</td>\n",
       "      <td>-0.335697</td>\n",
       "      <td>1.000000</td>\n",
       "    </tr>\n",
       "  </tbody>\n",
       "</table>\n",
       "</div>"
      ],
      "text/plain": [
       "                      leisure_screen_hours  work_screen_hours  \\\n",
       "leisure_screen_hours              1.000000          -0.286414   \n",
       "work_screen_hours                -0.286414           1.000000   \n",
       "productivity_0_100               -0.500558          -0.335697   \n",
       "\n",
       "                      productivity_0_100  \n",
       "leisure_screen_hours           -0.500558  \n",
       "work_screen_hours              -0.335697  \n",
       "productivity_0_100              1.000000  "
      ]
     },
     "execution_count": 31,
     "metadata": {},
     "output_type": "execute_result"
    }
   ],
   "source": [
    "num[[\"leisure_screen_hours\",\"work_screen_hours\",\"productivity_0_100\"]].corr()\n"
   ]
  },
  {
   "cell_type": "code",
   "execution_count": null,
   "id": "e42b0774",
   "metadata": {},
   "outputs": [
    {
     "name": "stdout",
     "output_type": "stream",
     "text": [
      "leisure_screen_hours       Skewness:   0.12   Kurtosis:  -0.11\n",
      "work_screen_hours          Skewness:   1.32   Kurtosis:   1.51\n",
      "productivity_0_100         Skewness:   0.71   Kurtosis:   0.35\n",
      "\n",
      " general_screen_time      Skewness:   0.08   Kurtosis:   0.70\n"
     ]
    }
   ],
   "source": [
    "general_screen_time = df[\"leisure_screen_hours\"] + df[\"work_screen_hours\"]\n",
    "\n",
    "num_cols = [\"leisure_screen_hours\", \"work_screen_hours\", \"productivity_0_100\"]\n",
    "\n",
    "for col in num_cols:\n",
    "    s = df[col].skew()\n",
    "    k = df[col].kurtosis()\n",
    "    print(f\"{col:25s}  Skewness: {s:6.2f}   Kurtosis: {k:6.2f}\")\n",
    "\n",
    "# Only for leisure_screen_hours and work_screen_hours\n",
    "s = general_screen_time.skew()\n",
    "k = general_screen_time.kurtosis()\n",
    "print(f\"{'\\n general_screen_time':25s}  Skewness: {s:6.2f}   Kurtosis: {k:6.2f}\")\n"
   ]
  },
  {
   "cell_type": "markdown",
   "id": "4a9bbb66",
   "metadata": {},
   "source": [
    "## Distribution Analysis\n",
    "\n",
    "- **Leisure screen hours** are quite balanced — most people spend a similar amount of time on leisure screens.  \n",
    "- **Work screen hours** are very uneven — most spend little time, but a few people spend many hours.  \n",
    "- **Productivity** is fairly even, with no extreme values.  \n",
    "- **General screen time** (leisure + work) is a bit higher for some users but mostly stays around the middle range.\n",
    "\n",
    "Overall, leisure time is consistent, work time varies a lot, and productivity stays fairly stable."
   ]
  },
  {
   "cell_type": "code",
   "execution_count": 33,
   "id": "08d3b82d",
   "metadata": {},
   "outputs": [
    {
     "data": {
      "image/png": "[encoded data removed]",
      "text/plain": [
       "<Figure size 640x480 with 1 Axes>"
      ]
     },
     "metadata": {},
     "output_type": "display_data"
    }
   ],
   "source": [
    "\n",
    "sns.scatterplot(data=df, x=\"leisure_screen_hours\", y=\"productivity_0_100\")\n",
    "plt.title(\"Leisure Screen Hours vs Productivity\")\n",
    "plt.show()"
   ]
  },
  {
   "cell_type": "markdown",
   "id": "ac258b98",
   "metadata": {},
   "source": [
    "## Analysis for Leisure Screen Hours vs Productivity\n",
    "\n",
    "The data points show a moderate negative relationship between leisure screen time and productivity.\n",
    "Most observations are concentrated around the mid-range of leisure hours, suggesting that users who spend more time on screens for leisure purposes tend to experience slightly lower productivity."
   ]
  },
  {
   "cell_type": "code",
   "execution_count": 34,
   "id": "0fcaf17c",
   "metadata": {},
   "outputs": [
    {
     "data": {
      "image/png": "[encoded data removed]",
      "text/plain": [
       "<Figure size 640x480 with 1 Axes>"
      ]
     },
     "metadata": {},
     "output_type": "display_data"
    }
   ],
   "source": [
    "\n",
    "sns.scatterplot(data=df, x=\"work_screen_hours\", y=\"productivity_0_100\")\n",
    "plt.title(\"Work Screen Hours vs Productivity\")\n",
    "plt.show()"
   ]
  },
  {
   "cell_type": "markdown",
   "id": "515cc746",
   "metadata": {},
   "source": [
    "## Analysis for Word Screen Hours vs Productivity\n",
    "\n",
    "The distribution is skewed toward lower work screen hours, with most users spending limited time on screens for work and one noticeable high-value outlier (around 12 hours).\n",
    "The trend line is nearly flat, indicating no strong correlation between work-related screen time and productivity."
   ]
  },
  {
   "cell_type": "code",
   "execution_count": 35,
   "id": "0823edd0",
   "metadata": {},
   "outputs": [
    {
     "data": {
      "image/png": "[encoded data removed]",
      "text/plain": [
       "<Figure size 640x480 with 1 Axes>"
      ]
     },
     "metadata": {},
     "output_type": "display_data"
    }
   ],
   "source": [
    "sns.scatterplot(data=df, x=general_screen_time, y=\"productivity_0_100\")\n",
    "plt.title(\"General Screen Time vs Productivity\")\n",
    "plt.show()"
   ]
  },
  {
   "cell_type": "markdown",
   "id": "a9e1e795",
   "metadata": {},
   "source": [
    "## Analysis for General time\n",
    "\n",
    "When combining leisure and work hours, the data shows a weak negative correlation with productivity.\n",
    "Most points are tightly clustered around the mid-range, suggesting limited variability and a small decline in productivity as total screen time increases"
   ]
  },
  {
   "cell_type": "code",
   "execution_count": 36,
   "id": "d6a975ea",
   "metadata": {},
   "outputs": [
    {
     "data": {
      "image/png": "[encoded data removed]",
      "text/plain": [
       "<Figure size 500x500 with 1 Axes>"
      ]
     },
     "metadata": {},
     "output_type": "display_data"
    }
   ],
   "source": [
    "leisure_work_copy = df.copy()\n",
    "leisure_work_copy[\"general_screen_time\"] = leisure_work_copy[\"leisure_screen_hours\"]+ leisure_work_copy[\"work_screen_hours\"]\n",
    "\n",
    "sns.lmplot(data=df, x=\"leisure_screen_hours\", y=\"productivity_0_100\")\n",
    "plt.show()\n"
   ]
  },
  {
   "cell_type": "code",
   "execution_count": 37,
   "id": "a11bffa2",
   "metadata": {},
   "outputs": [
    {
     "data": {
      "image/png": "[encoded data removed]",
      "text/plain": [
       "<Figure size 500x500 with 1 Axes>"
      ]
     },
     "metadata": {},
     "output_type": "display_data"
    }
   ],
   "source": [
    "sns.lmplot(data=df, x=\"work_screen_hours\", y=\"productivity_0_100\")\n",
    "plt.show()"
   ]
  },
  {
   "cell_type": "code",
   "execution_count": 38,
   "id": "c9e5e03a",
   "metadata": {},
   "outputs": [
    {
     "data": {
      "image/png": "[encoded data removed]",
      "text/plain": [
       "<Figure size 500x500 with 1 Axes>"
      ]
     },
     "metadata": {},
     "output_type": "display_data"
    }
   ],
   "source": [
    "sns.lmplot(data= leisure_work_copy, x=\"general_screen_time\",y=\"productivity_0_100\")\n",
    "\n",
    "plt.show()"
   ]
  },
  {
   "cell_type": "code",
   "execution_count": 39,
   "id": "cf616fb1",
   "metadata": {},
   "outputs": [
    {
     "data": {
      "image/png": "[encoded data removed]",
      "text/plain": [
       "<Figure size 640x480 with 2 Axes>"
      ]
     },
     "metadata": {},
     "output_type": "display_data"
    }
   ],
   "source": [
    "corr_cols = [\"leisure_screen_hours\",\"work_screen_hours\",\"general_screen_time\"]\n",
    "corr_matrix = leisure_work_copy[corr_cols].corr()\n",
    "\n",
    "sns.heatmap(corr_matrix, annot=True, cmap=\"coolwarm\",center=0)\n",
    "plt.show()\n"
   ]
  },
  {
   "cell_type": "markdown",
   "id": "9d4854c4",
   "metadata": {},
   "source": [
    "## Analysis by the heatmap\n",
    "\n",
    "Leisure vs Work (-0.29): a small inverse relationship — people who spend more time on leisure screens tend to spend a bit less on work screens.\n",
    "\n",
    "Leisure vs General (0.67): a strong positive relationship — leisure time makes up a large part of total screen time.\n",
    "\n",
    "Work vs General (0.52): a moderate positive relationship — work screen time also adds to total screen time, but not as much as leisure.\n"
   ]
  },
  {
   "cell_type": "markdown",
   "id": "b5f120d8",
   "metadata": {},
   "source": [
    "## Insights\n",
    "\n",
    "People who spend more time on screens for leisure tend to be slightly less productive.\n",
    "\n",
    "Time spent on screens for work seems to have little or no impact on productivity.\n",
    "\n",
    "Overall screen time (leisure + work) has a small negative effect on productivity.\n",
    "\n",
    "Leisure and work screen times are slightly inversely related, suggesting that spending more time on one type of screen tends to reduce the other."
   ]
  }
 ],
 "metadata": {
  "kernelspec": {
   "display_name": "base",
   "language": "python",
   "name": "python3"
  },
  "language_info": {
   "codemirror_mode": {
    "name": "ipython",
    "version": 3
   },
   "file_extension": ".py",
   "mimetype": "text/x-python",
   "name": "python",
   "nbconvert_exporter": "python",
   "pygments_lexer": "ipython3",
   "version": "3.13.5"
  }
 },
 "nbformat": 4,
 "nbformat_minor": 5
}
